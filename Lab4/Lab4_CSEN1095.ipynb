{
  "nbformat": 4,
  "nbformat_minor": 0,
  "metadata": {
    "colab": {
      "name": "Lab4_CSEN1095.ipynb",
      "provenance": [],
      "collapsed_sections": []
    },
    "kernelspec": {
      "name": "python3",
      "display_name": "Python 3"
    }
  },
  "cells": [
    {
      "cell_type": "markdown",
      "metadata": {
        "id": "3NLYk5DEa--8"
      },
      "source": [
        "## **Data Cleaning**\n",
        "\n",
        "Data cleaning involves removing unwanted characters, imputing, or dropping missing values.\n",
        "\n",
        "The decision is based on the dataset you have, and the information you can extract from the other columns.\n",
        "\n",
        "\n",
        "Examples of data cleaning include cleaning:\n",
        "\n",
        "1.   **Missing Data**\n",
        "2.   **Irregular Data** (Outliers)\n",
        "3.   **Unnecessary Data** — Repetitive Data, Duplicates and more\n",
        "4.   **Inconsistent Data** — Capitalization, Addresses and more\n",
        "\n",
        "\n",
        "\n",
        "\n",
        "\n",
        "\n"
      ]
    },
    {
      "cell_type": "markdown",
      "metadata": {
        "id": "BlDn1FrBbE_r"
      },
      "source": [
        "### **The Nobel Prize Dataset**\n",
        "\n",
        "The Nobel Prize , is a set of annual international awards bestowed in several categories by Swedish and Norwegian institutions in recognition of academic, cultural, or scientific advances.\n",
        "\n",
        "The will of the Swedish scientist Alfred Nobel established the five Nobel prizes in 1895. The prizes in Chemistry, Literature, Peace, Physics, and Physiology or Medicine were first awarded in 1901.The Nobel Prize is widely regarded as the most prestigious award available in the fields of literature, medicine, physics, chemistry, economics and activism for peace."
      ]
    },
    {
      "cell_type": "markdown",
      "metadata": {
        "id": "xEv2ZF9lbMzj"
      },
      "source": [
        "Let's start by reading the dataset then exploring if there are any missing values"
      ]
    },
    {
      "cell_type": "code",
      "metadata": {
        "id": "IbC-E4vM7gUZ"
      },
      "source": [
        "import pandas as pd\n",
        "import numpy as np"
      ],
      "execution_count": null,
      "outputs": []
    },
    {
      "cell_type": "code",
      "metadata": {
        "id": "sOHx4Ob2abXW"
      },
      "source": [
        "nobel_prize_df = pd.read_csv('https://raw.githubusercontent.com/raneemsultan/DataEngineering-CSEN1095/lab3_draft/Lab3/CSVs/nobel.csv')"
      ],
      "execution_count": null,
      "outputs": []
    },
    {
      "cell_type": "markdown",
      "metadata": {
        "id": "0Sdx7g39bRbL"
      },
      "source": [
        "Observe the first few rows"
      ]
    },
    {
      "cell_type": "code",
      "metadata": {
        "id": "HDMhnt9TbUCD",
        "outputId": "8a2f0853-1d63-46b5-e098-840f2fb984fa",
        "colab": {
          "base_uri": "https://localhost:8080/",
          "height": 501
        }
      },
      "source": [
        "nobel_prize_df.head()"
      ],
      "execution_count": null,
      "outputs": [
        {
          "output_type": "execute_result",
          "data": {
            "text/html": [
              "<div>\n",
              "<style scoped>\n",
              "    .dataframe tbody tr th:only-of-type {\n",
              "        vertical-align: middle;\n",
              "    }\n",
              "\n",
              "    .dataframe tbody tr th {\n",
              "        vertical-align: top;\n",
              "    }\n",
              "\n",
              "    .dataframe thead th {\n",
              "        text-align: right;\n",
              "    }\n",
              "</style>\n",
              "<table border=\"1\" class=\"dataframe\">\n",
              "  <thead>\n",
              "    <tr style=\"text-align: right;\">\n",
              "      <th></th>\n",
              "      <th>Year</th>\n",
              "      <th>Category</th>\n",
              "      <th>Prize</th>\n",
              "      <th>Motivation</th>\n",
              "      <th>Prize Share</th>\n",
              "      <th>Laureate ID</th>\n",
              "      <th>Laureate Type</th>\n",
              "      <th>Full Name</th>\n",
              "      <th>Birth Date</th>\n",
              "      <th>Birth City</th>\n",
              "      <th>Birth Country</th>\n",
              "      <th>Sex</th>\n",
              "      <th>Organization Name</th>\n",
              "      <th>Organization City</th>\n",
              "      <th>Organization Country</th>\n",
              "      <th>Death Date</th>\n",
              "      <th>Death City</th>\n",
              "      <th>Death Country</th>\n",
              "    </tr>\n",
              "  </thead>\n",
              "  <tbody>\n",
              "    <tr>\n",
              "      <th>0</th>\n",
              "      <td>1901</td>\n",
              "      <td>Chemistry</td>\n",
              "      <td>The Nobel Prize in Chemistry 1901</td>\n",
              "      <td>\"in recognition of the extraordinary services ...</td>\n",
              "      <td>1/1</td>\n",
              "      <td>160</td>\n",
              "      <td>Individual</td>\n",
              "      <td>Jacobus Henricus van 't Hoff</td>\n",
              "      <td>1852-08-30</td>\n",
              "      <td>Rotterdam</td>\n",
              "      <td>Netherlands</td>\n",
              "      <td>Male</td>\n",
              "      <td>Berlin University</td>\n",
              "      <td>Berlin</td>\n",
              "      <td>Germany</td>\n",
              "      <td>1911-03-01</td>\n",
              "      <td>Berlin</td>\n",
              "      <td>Germany</td>\n",
              "    </tr>\n",
              "    <tr>\n",
              "      <th>1</th>\n",
              "      <td>1901</td>\n",
              "      <td>Literature</td>\n",
              "      <td>The Nobel Prize in Literature 1901</td>\n",
              "      <td>\"in special recognition of his poetic composit...</td>\n",
              "      <td>1/1</td>\n",
              "      <td>569</td>\n",
              "      <td>Individual</td>\n",
              "      <td>Sully Prudhomme</td>\n",
              "      <td>1839-03-16</td>\n",
              "      <td>Paris</td>\n",
              "      <td>France</td>\n",
              "      <td>Male</td>\n",
              "      <td>NaN</td>\n",
              "      <td>NaN</td>\n",
              "      <td>NaN</td>\n",
              "      <td>1907-09-07</td>\n",
              "      <td>Châtenay</td>\n",
              "      <td>France</td>\n",
              "    </tr>\n",
              "    <tr>\n",
              "      <th>2</th>\n",
              "      <td>1901</td>\n",
              "      <td>Medicine</td>\n",
              "      <td>The Nobel Prize in Physiology or Medicine 1901</td>\n",
              "      <td>\"for his work on serum therapy, especially its...</td>\n",
              "      <td>1/1</td>\n",
              "      <td>293</td>\n",
              "      <td>Individual</td>\n",
              "      <td>Emil Adolf von Behring</td>\n",
              "      <td>1854-03-15</td>\n",
              "      <td>Hansdorf (Lawice)</td>\n",
              "      <td>Prussia (Poland)</td>\n",
              "      <td>Male</td>\n",
              "      <td>Marburg University</td>\n",
              "      <td>Marburg</td>\n",
              "      <td>Germany</td>\n",
              "      <td>1917-03-31</td>\n",
              "      <td>Marburg</td>\n",
              "      <td>Germany</td>\n",
              "    </tr>\n",
              "    <tr>\n",
              "      <th>3</th>\n",
              "      <td>1901</td>\n",
              "      <td>Peace</td>\n",
              "      <td>The Nobel Peace Prize 1901</td>\n",
              "      <td>NaN</td>\n",
              "      <td>1/2</td>\n",
              "      <td>462</td>\n",
              "      <td>Individual</td>\n",
              "      <td>Jean Henry Dunant</td>\n",
              "      <td>1828-05-08</td>\n",
              "      <td>Geneva</td>\n",
              "      <td>Switzerland</td>\n",
              "      <td>Male</td>\n",
              "      <td>NaN</td>\n",
              "      <td>NaN</td>\n",
              "      <td>NaN</td>\n",
              "      <td>1910-10-30</td>\n",
              "      <td>Heiden</td>\n",
              "      <td>Switzerland</td>\n",
              "    </tr>\n",
              "    <tr>\n",
              "      <th>4</th>\n",
              "      <td>1901</td>\n",
              "      <td>Peace</td>\n",
              "      <td>The Nobel Peace Prize 1901</td>\n",
              "      <td>NaN</td>\n",
              "      <td>1/2</td>\n",
              "      <td>463</td>\n",
              "      <td>Individual</td>\n",
              "      <td>Frédéric Passy</td>\n",
              "      <td>1822-05-20</td>\n",
              "      <td>Paris</td>\n",
              "      <td>France</td>\n",
              "      <td>Male</td>\n",
              "      <td>NaN</td>\n",
              "      <td>NaN</td>\n",
              "      <td>NaN</td>\n",
              "      <td>1912-06-12</td>\n",
              "      <td>Paris</td>\n",
              "      <td>France</td>\n",
              "    </tr>\n",
              "  </tbody>\n",
              "</table>\n",
              "</div>"
            ],
            "text/plain": [
              "   Year    Category  ... Death City Death Country\n",
              "0  1901   Chemistry  ...     Berlin       Germany\n",
              "1  1901  Literature  ...   Châtenay        France\n",
              "2  1901    Medicine  ...    Marburg       Germany\n",
              "3  1901       Peace  ...     Heiden   Switzerland\n",
              "4  1901       Peace  ...      Paris        France\n",
              "\n",
              "[5 rows x 18 columns]"
            ]
          },
          "metadata": {
            "tags": []
          },
          "execution_count": 4
        }
      ]
    },
    {
      "cell_type": "code",
      "metadata": {
        "id": "N1yff9XRbX5y",
        "outputId": "b2512df0-ec36-486c-ed86-e809e6a3a764",
        "colab": {
          "base_uri": "https://localhost:8080/"
        }
      },
      "source": [
        "print(nobel_prize_df.shape)\n",
        "nobel_prize_df.info()"
      ],
      "execution_count": null,
      "outputs": [
        {
          "output_type": "stream",
          "text": [
            "(969, 18)\n",
            "<class 'pandas.core.frame.DataFrame'>\n",
            "RangeIndex: 969 entries, 0 to 968\n",
            "Data columns (total 18 columns):\n",
            " #   Column                Non-Null Count  Dtype \n",
            "---  ------                --------------  ----- \n",
            " 0   Year                  969 non-null    int64 \n",
            " 1   Category              969 non-null    object\n",
            " 2   Prize                 969 non-null    object\n",
            " 3   Motivation            881 non-null    object\n",
            " 4   Prize Share           969 non-null    object\n",
            " 5   Laureate ID           969 non-null    int64 \n",
            " 6   Laureate Type         969 non-null    object\n",
            " 7   Full Name             969 non-null    object\n",
            " 8   Birth Date            940 non-null    object\n",
            " 9   Birth City            941 non-null    object\n",
            " 10  Birth Country         943 non-null    object\n",
            " 11  Sex                   943 non-null    object\n",
            " 12  Organization Name     722 non-null    object\n",
            " 13  Organization City     716 non-null    object\n",
            " 14  Organization Country  716 non-null    object\n",
            " 15  Death Date            617 non-null    object\n",
            " 16  Death City            599 non-null    object\n",
            " 17  Death Country         605 non-null    object\n",
            "dtypes: int64(2), object(16)\n",
            "memory usage: 136.4+ KB\n"
          ],
          "name": "stdout"
        }
      ]
    },
    {
      "cell_type": "markdown",
      "metadata": {
        "id": "_IKjDon_bcXj"
      },
      "source": [
        "From the above cell result, we can observe that there are missing values for several columns. Let's start by the Birth Date, and try to understand why is it missing."
      ]
    },
    {
      "cell_type": "code",
      "metadata": {
        "id": "QnJxGOw1beWD",
        "outputId": "d637fe5a-abdf-4718-8f03-136a66a03e7a",
        "colab": {
          "base_uri": "https://localhost:8080/"
        }
      },
      "source": [
        "#another way to find the null values\n",
        "\n",
        "nobel_prize_df.isnull().sum()"
      ],
      "execution_count": null,
      "outputs": [
        {
          "output_type": "execute_result",
          "data": {
            "text/plain": [
              "Year                      0\n",
              "Category                  0\n",
              "Prize                     0\n",
              "Motivation               88\n",
              "Prize Share               0\n",
              "Laureate ID               0\n",
              "Laureate Type             0\n",
              "Full Name                 0\n",
              "Birth Date               29\n",
              "Birth City               28\n",
              "Birth Country            26\n",
              "Sex                      26\n",
              "Organization Name       247\n",
              "Organization City       253\n",
              "Organization Country    253\n",
              "Death Date              352\n",
              "Death City              370\n",
              "Death Country           364\n",
              "dtype: int64"
            ]
          },
          "metadata": {
            "tags": []
          },
          "execution_count": 5
        }
      ]
    },
    {
      "cell_type": "code",
      "metadata": {
        "id": "v385jtltbnQc",
        "outputId": "8b191e50-cc38-44df-a637-699613aa9821",
        "colab": {
          "base_uri": "https://localhost:8080/",
          "height": 1000
        }
      },
      "source": [
        "nobel_prize_df[nobel_prize_df['Birth City'].isnull()]"
      ],
      "execution_count": null,
      "outputs": [
        {
          "output_type": "execute_result",
          "data": {
            "text/html": [
              "<div>\n",
              "<style scoped>\n",
              "    .dataframe tbody tr th:only-of-type {\n",
              "        vertical-align: middle;\n",
              "    }\n",
              "\n",
              "    .dataframe tbody tr th {\n",
              "        vertical-align: top;\n",
              "    }\n",
              "\n",
              "    .dataframe thead th {\n",
              "        text-align: right;\n",
              "    }\n",
              "</style>\n",
              "<table border=\"1\" class=\"dataframe\">\n",
              "  <thead>\n",
              "    <tr style=\"text-align: right;\">\n",
              "      <th></th>\n",
              "      <th>Year</th>\n",
              "      <th>Category</th>\n",
              "      <th>Prize</th>\n",
              "      <th>Motivation</th>\n",
              "      <th>Prize Share</th>\n",
              "      <th>Laureate ID</th>\n",
              "      <th>Laureate Type</th>\n",
              "      <th>Full Name</th>\n",
              "      <th>Birth Date</th>\n",
              "      <th>Birth City</th>\n",
              "      <th>Birth Country</th>\n",
              "      <th>Sex</th>\n",
              "      <th>Organization Name</th>\n",
              "      <th>Organization City</th>\n",
              "      <th>Organization Country</th>\n",
              "      <th>Death Date</th>\n",
              "      <th>Death City</th>\n",
              "      <th>Death Country</th>\n",
              "    </tr>\n",
              "  </thead>\n",
              "  <tbody>\n",
              "    <tr>\n",
              "      <th>24</th>\n",
              "      <td>1904</td>\n",
              "      <td>Peace</td>\n",
              "      <td>The Nobel Peace Prize 1904</td>\n",
              "      <td>NaN</td>\n",
              "      <td>1/1</td>\n",
              "      <td>467</td>\n",
              "      <td>Organization</td>\n",
              "      <td>Institut de droit international (Institute of ...</td>\n",
              "      <td>NaN</td>\n",
              "      <td>NaN</td>\n",
              "      <td>NaN</td>\n",
              "      <td>NaN</td>\n",
              "      <td>NaN</td>\n",
              "      <td>NaN</td>\n",
              "      <td>NaN</td>\n",
              "      <td>NaN</td>\n",
              "      <td>NaN</td>\n",
              "      <td>NaN</td>\n",
              "    </tr>\n",
              "    <tr>\n",
              "      <th>61</th>\n",
              "      <td>1910</td>\n",
              "      <td>Peace</td>\n",
              "      <td>The Nobel Peace Prize 1910</td>\n",
              "      <td>NaN</td>\n",
              "      <td>1/1</td>\n",
              "      <td>477</td>\n",
              "      <td>Organization</td>\n",
              "      <td>Bureau international permanent de la Paix (Per...</td>\n",
              "      <td>NaN</td>\n",
              "      <td>NaN</td>\n",
              "      <td>NaN</td>\n",
              "      <td>NaN</td>\n",
              "      <td>NaN</td>\n",
              "      <td>NaN</td>\n",
              "      <td>NaN</td>\n",
              "      <td>NaN</td>\n",
              "      <td>NaN</td>\n",
              "      <td>NaN</td>\n",
              "    </tr>\n",
              "    <tr>\n",
              "      <th>90</th>\n",
              "      <td>1917</td>\n",
              "      <td>Peace</td>\n",
              "      <td>The Nobel Peace Prize 1917</td>\n",
              "      <td>NaN</td>\n",
              "      <td>1/1</td>\n",
              "      <td>482</td>\n",
              "      <td>Organization</td>\n",
              "      <td>Comité international de la Croix Rouge (Intern...</td>\n",
              "      <td>NaN</td>\n",
              "      <td>NaN</td>\n",
              "      <td>NaN</td>\n",
              "      <td>NaN</td>\n",
              "      <td>NaN</td>\n",
              "      <td>NaN</td>\n",
              "      <td>NaN</td>\n",
              "      <td>NaN</td>\n",
              "      <td>NaN</td>\n",
              "      <td>NaN</td>\n",
              "    </tr>\n",
              "    <tr>\n",
              "      <th>206</th>\n",
              "      <td>1938</td>\n",
              "      <td>Peace</td>\n",
              "      <td>The Nobel Peace Prize 1938</td>\n",
              "      <td>NaN</td>\n",
              "      <td>1/1</td>\n",
              "      <td>503</td>\n",
              "      <td>Organization</td>\n",
              "      <td>Office international Nansen pour les Réfugiés ...</td>\n",
              "      <td>NaN</td>\n",
              "      <td>NaN</td>\n",
              "      <td>NaN</td>\n",
              "      <td>NaN</td>\n",
              "      <td>NaN</td>\n",
              "      <td>NaN</td>\n",
              "      <td>NaN</td>\n",
              "      <td>NaN</td>\n",
              "      <td>NaN</td>\n",
              "      <td>NaN</td>\n",
              "    </tr>\n",
              "    <tr>\n",
              "      <th>222</th>\n",
              "      <td>1944</td>\n",
              "      <td>Peace</td>\n",
              "      <td>The Nobel Peace Prize 1944</td>\n",
              "      <td>NaN</td>\n",
              "      <td>1/1</td>\n",
              "      <td>482</td>\n",
              "      <td>Organization</td>\n",
              "      <td>Comité international de la Croix Rouge (Intern...</td>\n",
              "      <td>NaN</td>\n",
              "      <td>NaN</td>\n",
              "      <td>NaN</td>\n",
              "      <td>NaN</td>\n",
              "      <td>NaN</td>\n",
              "      <td>NaN</td>\n",
              "      <td>NaN</td>\n",
              "      <td>NaN</td>\n",
              "      <td>NaN</td>\n",
              "      <td>NaN</td>\n",
              "    </tr>\n",
              "    <tr>\n",
              "      <th>244</th>\n",
              "      <td>1947</td>\n",
              "      <td>Peace</td>\n",
              "      <td>The Nobel Peace Prize 1947</td>\n",
              "      <td>NaN</td>\n",
              "      <td>1/2</td>\n",
              "      <td>508</td>\n",
              "      <td>Organization</td>\n",
              "      <td>Friends Service Council (The Quakers)</td>\n",
              "      <td>NaN</td>\n",
              "      <td>NaN</td>\n",
              "      <td>NaN</td>\n",
              "      <td>NaN</td>\n",
              "      <td>NaN</td>\n",
              "      <td>NaN</td>\n",
              "      <td>NaN</td>\n",
              "      <td>NaN</td>\n",
              "      <td>NaN</td>\n",
              "      <td>NaN</td>\n",
              "    </tr>\n",
              "    <tr>\n",
              "      <th>245</th>\n",
              "      <td>1947</td>\n",
              "      <td>Peace</td>\n",
              "      <td>The Nobel Peace Prize 1947</td>\n",
              "      <td>NaN</td>\n",
              "      <td>1/2</td>\n",
              "      <td>509</td>\n",
              "      <td>Organization</td>\n",
              "      <td>American Friends Service Committee (The Quakers)</td>\n",
              "      <td>NaN</td>\n",
              "      <td>NaN</td>\n",
              "      <td>NaN</td>\n",
              "      <td>NaN</td>\n",
              "      <td>NaN</td>\n",
              "      <td>NaN</td>\n",
              "      <td>NaN</td>\n",
              "      <td>NaN</td>\n",
              "      <td>NaN</td>\n",
              "      <td>NaN</td>\n",
              "    </tr>\n",
              "    <tr>\n",
              "      <th>295</th>\n",
              "      <td>1954</td>\n",
              "      <td>Peace</td>\n",
              "      <td>The Nobel Peace Prize 1954</td>\n",
              "      <td>NaN</td>\n",
              "      <td>1/1</td>\n",
              "      <td>515</td>\n",
              "      <td>Organization</td>\n",
              "      <td>Office of the United Nations High Commissioner...</td>\n",
              "      <td>NaN</td>\n",
              "      <td>NaN</td>\n",
              "      <td>NaN</td>\n",
              "      <td>NaN</td>\n",
              "      <td>NaN</td>\n",
              "      <td>NaN</td>\n",
              "      <td>NaN</td>\n",
              "      <td>NaN</td>\n",
              "      <td>NaN</td>\n",
              "      <td>NaN</td>\n",
              "    </tr>\n",
              "    <tr>\n",
              "      <th>365</th>\n",
              "      <td>1963</td>\n",
              "      <td>Peace</td>\n",
              "      <td>The Nobel Peace Prize 1963</td>\n",
              "      <td>NaN</td>\n",
              "      <td>1/2</td>\n",
              "      <td>482</td>\n",
              "      <td>Organization</td>\n",
              "      <td>Comité international de la Croix Rouge (Intern...</td>\n",
              "      <td>NaN</td>\n",
              "      <td>NaN</td>\n",
              "      <td>NaN</td>\n",
              "      <td>NaN</td>\n",
              "      <td>NaN</td>\n",
              "      <td>NaN</td>\n",
              "      <td>NaN</td>\n",
              "      <td>NaN</td>\n",
              "      <td>NaN</td>\n",
              "      <td>NaN</td>\n",
              "    </tr>\n",
              "    <tr>\n",
              "      <th>366</th>\n",
              "      <td>1963</td>\n",
              "      <td>Peace</td>\n",
              "      <td>The Nobel Peace Prize 1963</td>\n",
              "      <td>NaN</td>\n",
              "      <td>1/2</td>\n",
              "      <td>523</td>\n",
              "      <td>Organization</td>\n",
              "      <td>Ligue des Sociétés de la Croix-Rouge (League o...</td>\n",
              "      <td>NaN</td>\n",
              "      <td>NaN</td>\n",
              "      <td>NaN</td>\n",
              "      <td>NaN</td>\n",
              "      <td>NaN</td>\n",
              "      <td>NaN</td>\n",
              "      <td>NaN</td>\n",
              "      <td>NaN</td>\n",
              "      <td>NaN</td>\n",
              "      <td>NaN</td>\n",
              "    </tr>\n",
              "    <tr>\n",
              "      <th>383</th>\n",
              "      <td>1965</td>\n",
              "      <td>Peace</td>\n",
              "      <td>The Nobel Peace Prize 1965</td>\n",
              "      <td>NaN</td>\n",
              "      <td>1/1</td>\n",
              "      <td>525</td>\n",
              "      <td>Organization</td>\n",
              "      <td>United Nations Children's Fund (UNICEF)</td>\n",
              "      <td>NaN</td>\n",
              "      <td>NaN</td>\n",
              "      <td>NaN</td>\n",
              "      <td>NaN</td>\n",
              "      <td>NaN</td>\n",
              "      <td>NaN</td>\n",
              "      <td>NaN</td>\n",
              "      <td>NaN</td>\n",
              "      <td>NaN</td>\n",
              "      <td>NaN</td>\n",
              "    </tr>\n",
              "    <tr>\n",
              "      <th>416</th>\n",
              "      <td>1969</td>\n",
              "      <td>Peace</td>\n",
              "      <td>The Nobel Peace Prize 1969</td>\n",
              "      <td>NaN</td>\n",
              "      <td>1/1</td>\n",
              "      <td>527</td>\n",
              "      <td>Organization</td>\n",
              "      <td>International Labour Organization (I.L.O.)</td>\n",
              "      <td>NaN</td>\n",
              "      <td>NaN</td>\n",
              "      <td>NaN</td>\n",
              "      <td>NaN</td>\n",
              "      <td>NaN</td>\n",
              "      <td>NaN</td>\n",
              "      <td>NaN</td>\n",
              "      <td>NaN</td>\n",
              "      <td>NaN</td>\n",
              "      <td>NaN</td>\n",
              "    </tr>\n",
              "    <tr>\n",
              "      <th>498</th>\n",
              "      <td>1977</td>\n",
              "      <td>Peace</td>\n",
              "      <td>The Nobel Peace Prize 1977</td>\n",
              "      <td>NaN</td>\n",
              "      <td>1/1</td>\n",
              "      <td>537</td>\n",
              "      <td>Organization</td>\n",
              "      <td>Amnesty International</td>\n",
              "      <td>NaN</td>\n",
              "      <td>NaN</td>\n",
              "      <td>NaN</td>\n",
              "      <td>NaN</td>\n",
              "      <td>NaN</td>\n",
              "      <td>NaN</td>\n",
              "      <td>NaN</td>\n",
              "      <td>NaN</td>\n",
              "      <td>NaN</td>\n",
              "      <td>NaN</td>\n",
              "    </tr>\n",
              "    <tr>\n",
              "      <th>543</th>\n",
              "      <td>1981</td>\n",
              "      <td>Peace</td>\n",
              "      <td>The Nobel Peace Prize 1981</td>\n",
              "      <td>NaN</td>\n",
              "      <td>1/1</td>\n",
              "      <td>515</td>\n",
              "      <td>Organization</td>\n",
              "      <td>Office of the United Nations High Commissioner...</td>\n",
              "      <td>NaN</td>\n",
              "      <td>NaN</td>\n",
              "      <td>NaN</td>\n",
              "      <td>NaN</td>\n",
              "      <td>NaN</td>\n",
              "      <td>NaN</td>\n",
              "      <td>NaN</td>\n",
              "      <td>NaN</td>\n",
              "      <td>NaN</td>\n",
              "      <td>NaN</td>\n",
              "    </tr>\n",
              "    <tr>\n",
              "      <th>578</th>\n",
              "      <td>1985</td>\n",
              "      <td>Peace</td>\n",
              "      <td>The Nobel Peace Prize 1985</td>\n",
              "      <td>NaN</td>\n",
              "      <td>1/1</td>\n",
              "      <td>547</td>\n",
              "      <td>Organization</td>\n",
              "      <td>International Physicians for the Prevention of...</td>\n",
              "      <td>NaN</td>\n",
              "      <td>NaN</td>\n",
              "      <td>NaN</td>\n",
              "      <td>NaN</td>\n",
              "      <td>NaN</td>\n",
              "      <td>NaN</td>\n",
              "      <td>NaN</td>\n",
              "      <td>NaN</td>\n",
              "      <td>NaN</td>\n",
              "      <td>NaN</td>\n",
              "    </tr>\n",
              "    <tr>\n",
              "      <th>610</th>\n",
              "      <td>1988</td>\n",
              "      <td>Peace</td>\n",
              "      <td>The Nobel Peace Prize 1988</td>\n",
              "      <td>NaN</td>\n",
              "      <td>1/1</td>\n",
              "      <td>550</td>\n",
              "      <td>Organization</td>\n",
              "      <td>United Nations Peacekeeping Forces</td>\n",
              "      <td>NaN</td>\n",
              "      <td>NaN</td>\n",
              "      <td>NaN</td>\n",
              "      <td>NaN</td>\n",
              "      <td>NaN</td>\n",
              "      <td>NaN</td>\n",
              "      <td>NaN</td>\n",
              "      <td>NaN</td>\n",
              "      <td>NaN</td>\n",
              "      <td>NaN</td>\n",
              "    </tr>\n",
              "    <tr>\n",
              "      <th>682</th>\n",
              "      <td>1995</td>\n",
              "      <td>Peace</td>\n",
              "      <td>The Nobel Peace Prize 1995</td>\n",
              "      <td>\"for their efforts to diminish the part played...</td>\n",
              "      <td>1/2</td>\n",
              "      <td>561</td>\n",
              "      <td>Organization</td>\n",
              "      <td>Pugwash Conferences on Science and World Affairs</td>\n",
              "      <td>NaN</td>\n",
              "      <td>NaN</td>\n",
              "      <td>NaN</td>\n",
              "      <td>NaN</td>\n",
              "      <td>NaN</td>\n",
              "      <td>NaN</td>\n",
              "      <td>NaN</td>\n",
              "      <td>NaN</td>\n",
              "      <td>NaN</td>\n",
              "      <td>NaN</td>\n",
              "    </tr>\n",
              "    <tr>\n",
              "      <th>705</th>\n",
              "      <td>1997</td>\n",
              "      <td>Peace</td>\n",
              "      <td>The Nobel Peace Prize 1997</td>\n",
              "      <td>\"for their work for the banning and clearing o...</td>\n",
              "      <td>1/2</td>\n",
              "      <td>564</td>\n",
              "      <td>Organization</td>\n",
              "      <td>International Campaign to Ban Landmines (ICBL)</td>\n",
              "      <td>NaN</td>\n",
              "      <td>NaN</td>\n",
              "      <td>NaN</td>\n",
              "      <td>NaN</td>\n",
              "      <td>NaN</td>\n",
              "      <td>NaN</td>\n",
              "      <td>NaN</td>\n",
              "      <td>NaN</td>\n",
              "      <td>NaN</td>\n",
              "      <td>NaN</td>\n",
              "    </tr>\n",
              "    <tr>\n",
              "      <th>728</th>\n",
              "      <td>1999</td>\n",
              "      <td>Peace</td>\n",
              "      <td>The Nobel Peace Prize 1999</td>\n",
              "      <td>\"in recognition of the organization's pioneeri...</td>\n",
              "      <td>1/1</td>\n",
              "      <td>568</td>\n",
              "      <td>Organization</td>\n",
              "      <td>Médecins Sans Frontières</td>\n",
              "      <td>NaN</td>\n",
              "      <td>NaN</td>\n",
              "      <td>NaN</td>\n",
              "      <td>NaN</td>\n",
              "      <td>NaN</td>\n",
              "      <td>NaN</td>\n",
              "      <td>NaN</td>\n",
              "      <td>NaN</td>\n",
              "      <td>NaN</td>\n",
              "      <td>NaN</td>\n",
              "    </tr>\n",
              "    <tr>\n",
              "      <th>750</th>\n",
              "      <td>2001</td>\n",
              "      <td>Literature</td>\n",
              "      <td>The Nobel Prize in Literature 2001</td>\n",
              "      <td>\"for having united perceptive narrative and in...</td>\n",
              "      <td>1/1</td>\n",
              "      <td>747</td>\n",
              "      <td>Individual</td>\n",
              "      <td>Sir Vidiadhar Surajprasad Naipaul</td>\n",
              "      <td>1932-08-17</td>\n",
              "      <td>NaN</td>\n",
              "      <td>Trinidad</td>\n",
              "      <td>Male</td>\n",
              "      <td>NaN</td>\n",
              "      <td>NaN</td>\n",
              "      <td>NaN</td>\n",
              "      <td>NaN</td>\n",
              "      <td>NaN</td>\n",
              "      <td>NaN</td>\n",
              "    </tr>\n",
              "    <tr>\n",
              "      <th>754</th>\n",
              "      <td>2001</td>\n",
              "      <td>Peace</td>\n",
              "      <td>The Nobel Peace Prize 2001</td>\n",
              "      <td>\"for their work for a better organized and mor...</td>\n",
              "      <td>1/2</td>\n",
              "      <td>748</td>\n",
              "      <td>Organization</td>\n",
              "      <td>United Nations (U.N.)</td>\n",
              "      <td>NaN</td>\n",
              "      <td>NaN</td>\n",
              "      <td>NaN</td>\n",
              "      <td>NaN</td>\n",
              "      <td>NaN</td>\n",
              "      <td>NaN</td>\n",
              "      <td>NaN</td>\n",
              "      <td>NaN</td>\n",
              "      <td>NaN</td>\n",
              "      <td>NaN</td>\n",
              "    </tr>\n",
              "    <tr>\n",
              "      <th>808</th>\n",
              "      <td>2005</td>\n",
              "      <td>Peace</td>\n",
              "      <td>The Nobel Peace Prize 2005</td>\n",
              "      <td>\"for their efforts to prevent nuclear energy f...</td>\n",
              "      <td>1/2</td>\n",
              "      <td>797</td>\n",
              "      <td>Organization</td>\n",
              "      <td>International Atomic Energy Agency (IAEA)</td>\n",
              "      <td>NaN</td>\n",
              "      <td>NaN</td>\n",
              "      <td>NaN</td>\n",
              "      <td>NaN</td>\n",
              "      <td>NaN</td>\n",
              "      <td>NaN</td>\n",
              "      <td>NaN</td>\n",
              "      <td>NaN</td>\n",
              "      <td>NaN</td>\n",
              "      <td>NaN</td>\n",
              "    </tr>\n",
              "    <tr>\n",
              "      <th>821</th>\n",
              "      <td>2006</td>\n",
              "      <td>Peace</td>\n",
              "      <td>The Nobel Peace Prize 2006</td>\n",
              "      <td>\"for their efforts to create economic and soci...</td>\n",
              "      <td>1/2</td>\n",
              "      <td>810</td>\n",
              "      <td>Organization</td>\n",
              "      <td>Grameen Bank</td>\n",
              "      <td>NaN</td>\n",
              "      <td>NaN</td>\n",
              "      <td>NaN</td>\n",
              "      <td>NaN</td>\n",
              "      <td>NaN</td>\n",
              "      <td>NaN</td>\n",
              "      <td>NaN</td>\n",
              "      <td>NaN</td>\n",
              "      <td>NaN</td>\n",
              "      <td>NaN</td>\n",
              "    </tr>\n",
              "    <tr>\n",
              "      <th>833</th>\n",
              "      <td>2007</td>\n",
              "      <td>Peace</td>\n",
              "      <td>The Nobel Peace Prize 2007</td>\n",
              "      <td>\"for their efforts to build up and disseminate...</td>\n",
              "      <td>1/2</td>\n",
              "      <td>818</td>\n",
              "      <td>Organization</td>\n",
              "      <td>Intergovernmental Panel on Climate Change (IPCC)</td>\n",
              "      <td>NaN</td>\n",
              "      <td>NaN</td>\n",
              "      <td>NaN</td>\n",
              "      <td>NaN</td>\n",
              "      <td>NaN</td>\n",
              "      <td>NaN</td>\n",
              "      <td>NaN</td>\n",
              "      <td>NaN</td>\n",
              "      <td>NaN</td>\n",
              "      <td>NaN</td>\n",
              "    </tr>\n",
              "    <tr>\n",
              "      <th>880</th>\n",
              "      <td>2010</td>\n",
              "      <td>Peace</td>\n",
              "      <td>The Nobel Peace Prize 2010</td>\n",
              "      <td>\"for his long and non-violent struggle for fun...</td>\n",
              "      <td>1/1</td>\n",
              "      <td>855</td>\n",
              "      <td>Individual</td>\n",
              "      <td>Liu Xiaobo</td>\n",
              "      <td>1955-12-28</td>\n",
              "      <td>NaN</td>\n",
              "      <td>China</td>\n",
              "      <td>Male</td>\n",
              "      <td>NaN</td>\n",
              "      <td>NaN</td>\n",
              "      <td>NaN</td>\n",
              "      <td>NaN</td>\n",
              "      <td>NaN</td>\n",
              "      <td>NaN</td>\n",
              "    </tr>\n",
              "    <tr>\n",
              "      <th>909</th>\n",
              "      <td>2012</td>\n",
              "      <td>Peace</td>\n",
              "      <td>The Nobel Peace Prize 2012</td>\n",
              "      <td>\"for over six decades contributed to the advan...</td>\n",
              "      <td>1/1</td>\n",
              "      <td>881</td>\n",
              "      <td>Organization</td>\n",
              "      <td>European Union (EU)</td>\n",
              "      <td>NaN</td>\n",
              "      <td>NaN</td>\n",
              "      <td>NaN</td>\n",
              "      <td>NaN</td>\n",
              "      <td>NaN</td>\n",
              "      <td>NaN</td>\n",
              "      <td>NaN</td>\n",
              "      <td>NaN</td>\n",
              "      <td>NaN</td>\n",
              "      <td>NaN</td>\n",
              "    </tr>\n",
              "    <tr>\n",
              "      <th>927</th>\n",
              "      <td>2013</td>\n",
              "      <td>Peace</td>\n",
              "      <td>The Nobel Peace Prize 2013</td>\n",
              "      <td>\"for its extensive efforts to eliminate chemic...</td>\n",
              "      <td>1/1</td>\n",
              "      <td>893</td>\n",
              "      <td>Organization</td>\n",
              "      <td>Organisation for the Prohibition of Chemical W...</td>\n",
              "      <td>NaN</td>\n",
              "      <td>NaN</td>\n",
              "      <td>NaN</td>\n",
              "      <td>NaN</td>\n",
              "      <td>NaN</td>\n",
              "      <td>NaN</td>\n",
              "      <td>NaN</td>\n",
              "      <td>NaN</td>\n",
              "      <td>NaN</td>\n",
              "      <td>NaN</td>\n",
              "    </tr>\n",
              "    <tr>\n",
              "      <th>955</th>\n",
              "      <td>2015</td>\n",
              "      <td>Peace</td>\n",
              "      <td>The Nobel Peace Prize 2015</td>\n",
              "      <td>\"for its decisive contribution to the building...</td>\n",
              "      <td>1/1</td>\n",
              "      <td>925</td>\n",
              "      <td>Organization</td>\n",
              "      <td>National Dialogue Quartet</td>\n",
              "      <td>NaN</td>\n",
              "      <td>NaN</td>\n",
              "      <td>NaN</td>\n",
              "      <td>NaN</td>\n",
              "      <td>NaN</td>\n",
              "      <td>NaN</td>\n",
              "      <td>NaN</td>\n",
              "      <td>NaN</td>\n",
              "      <td>NaN</td>\n",
              "      <td>NaN</td>\n",
              "    </tr>\n",
              "  </tbody>\n",
              "</table>\n",
              "</div>"
            ],
            "text/plain": [
              "     Year    Category  ... Death City Death Country\n",
              "24   1904       Peace  ...        NaN           NaN\n",
              "61   1910       Peace  ...        NaN           NaN\n",
              "90   1917       Peace  ...        NaN           NaN\n",
              "206  1938       Peace  ...        NaN           NaN\n",
              "222  1944       Peace  ...        NaN           NaN\n",
              "244  1947       Peace  ...        NaN           NaN\n",
              "245  1947       Peace  ...        NaN           NaN\n",
              "295  1954       Peace  ...        NaN           NaN\n",
              "365  1963       Peace  ...        NaN           NaN\n",
              "366  1963       Peace  ...        NaN           NaN\n",
              "383  1965       Peace  ...        NaN           NaN\n",
              "416  1969       Peace  ...        NaN           NaN\n",
              "498  1977       Peace  ...        NaN           NaN\n",
              "543  1981       Peace  ...        NaN           NaN\n",
              "578  1985       Peace  ...        NaN           NaN\n",
              "610  1988       Peace  ...        NaN           NaN\n",
              "682  1995       Peace  ...        NaN           NaN\n",
              "705  1997       Peace  ...        NaN           NaN\n",
              "728  1999       Peace  ...        NaN           NaN\n",
              "750  2001  Literature  ...        NaN           NaN\n",
              "754  2001       Peace  ...        NaN           NaN\n",
              "808  2005       Peace  ...        NaN           NaN\n",
              "821  2006       Peace  ...        NaN           NaN\n",
              "833  2007       Peace  ...        NaN           NaN\n",
              "880  2010       Peace  ...        NaN           NaN\n",
              "909  2012       Peace  ...        NaN           NaN\n",
              "927  2013       Peace  ...        NaN           NaN\n",
              "955  2015       Peace  ...        NaN           NaN\n",
              "\n",
              "[28 rows x 18 columns]"
            ]
          },
          "metadata": {
            "tags": []
          },
          "execution_count": 6
        }
      ]
    },
    {
      "cell_type": "markdown",
      "metadata": {
        "id": "1Ze7brErbn37"
      },
      "source": [
        "If we observe the dataframe above, we notice that the `Birth Date`,\t`Birth City`,\t`Birth Country`,\t`Sex`,\t`Organization Name`,\t`Organization City`,\t`Organization Country`,\t`Death Date`,`\tDeath City`, and\t`Death Country` are also missing. However, when we check the `Laureate Type` column, we observe that most of them belong to an *Organization*. Hence, those values are missing for a reason.\n",
        "\n",
        "Therefore, not every value which is missing, we shall impute. What imputation means is infering the missing values from other columns or the same column, through mean,median, and mode for example."
      ]
    },
    {
      "cell_type": "markdown",
      "metadata": {
        "id": "ny5Z-SsdbvZT"
      },
      "source": [
        "Let's try to analyze another column. That is the `Death Date` column, why doesn't it exist? Is it because the laureates still didn't die, or because the laureate is an organization, or is it because it wasn't recorded?"
      ]
    },
    {
      "cell_type": "code",
      "metadata": {
        "id": "FYw50qdzbrMD",
        "outputId": "06dbe51a-a702-4565-ecfc-9261cda54427",
        "colab": {
          "base_uri": "https://localhost:8080/",
          "height": 606
        }
      },
      "source": [
        "nobel_prize_df[((nobel_prize_df['Death Date'].isnull()) & (nobel_prize_df['Laureate Type']!='Organization'))]"
      ],
      "execution_count": null,
      "outputs": [
        {
          "output_type": "execute_result",
          "data": {
            "text/html": [
              "<div>\n",
              "<style scoped>\n",
              "    .dataframe tbody tr th:only-of-type {\n",
              "        vertical-align: middle;\n",
              "    }\n",
              "\n",
              "    .dataframe tbody tr th {\n",
              "        vertical-align: top;\n",
              "    }\n",
              "\n",
              "    .dataframe thead th {\n",
              "        text-align: right;\n",
              "    }\n",
              "</style>\n",
              "<table border=\"1\" class=\"dataframe\">\n",
              "  <thead>\n",
              "    <tr style=\"text-align: right;\">\n",
              "      <th></th>\n",
              "      <th>Year</th>\n",
              "      <th>Category</th>\n",
              "      <th>Prize</th>\n",
              "      <th>Motivation</th>\n",
              "      <th>Prize Share</th>\n",
              "      <th>Laureate ID</th>\n",
              "      <th>Laureate Type</th>\n",
              "      <th>Full Name</th>\n",
              "      <th>Birth Date</th>\n",
              "      <th>Birth City</th>\n",
              "      <th>Birth Country</th>\n",
              "      <th>Sex</th>\n",
              "      <th>Organization Name</th>\n",
              "      <th>Organization City</th>\n",
              "      <th>Organization Country</th>\n",
              "      <th>Death Date</th>\n",
              "      <th>Death City</th>\n",
              "      <th>Death Country</th>\n",
              "    </tr>\n",
              "  </thead>\n",
              "  <tbody>\n",
              "    <tr>\n",
              "      <th>318</th>\n",
              "      <td>1957</td>\n",
              "      <td>Physics</td>\n",
              "      <td>The Nobel Prize in Physics 1957</td>\n",
              "      <td>\"for their penetrating investigation of the so...</td>\n",
              "      <td>1/2</td>\n",
              "      <td>68</td>\n",
              "      <td>Individual</td>\n",
              "      <td>Chen Ning Yang</td>\n",
              "      <td>1922-09-22</td>\n",
              "      <td>Hofei, Anhwei</td>\n",
              "      <td>China</td>\n",
              "      <td>Male</td>\n",
              "      <td>Institute for Advanced Study</td>\n",
              "      <td>Princeton, NJ</td>\n",
              "      <td>United States of America</td>\n",
              "      <td>NaN</td>\n",
              "      <td>NaN</td>\n",
              "      <td>NaN</td>\n",
              "    </tr>\n",
              "    <tr>\n",
              "      <th>319</th>\n",
              "      <td>1957</td>\n",
              "      <td>Physics</td>\n",
              "      <td>The Nobel Prize in Physics 1957</td>\n",
              "      <td>\"for their penetrating investigation of the so...</td>\n",
              "      <td>1/2</td>\n",
              "      <td>69</td>\n",
              "      <td>Individual</td>\n",
              "      <td>Tsung-Dao (T.D.) Lee</td>\n",
              "      <td>1926-11-24</td>\n",
              "      <td>Shanghai</td>\n",
              "      <td>China</td>\n",
              "      <td>Male</td>\n",
              "      <td>Columbia University</td>\n",
              "      <td>New York, NY</td>\n",
              "      <td>United States of America</td>\n",
              "      <td>NaN</td>\n",
              "      <td>NaN</td>\n",
              "      <td>NaN</td>\n",
              "    </tr>\n",
              "    <tr>\n",
              "      <th>355</th>\n",
              "      <td>1962</td>\n",
              "      <td>Medicine</td>\n",
              "      <td>The Nobel Prize in Physiology or Medicine 1962</td>\n",
              "      <td>\"for their discoveries concerning the molecula...</td>\n",
              "      <td>1/3</td>\n",
              "      <td>373</td>\n",
              "      <td>Individual</td>\n",
              "      <td>James Dewey Watson</td>\n",
              "      <td>1928-04-06</td>\n",
              "      <td>Chicago, IL</td>\n",
              "      <td>United States of America</td>\n",
              "      <td>Male</td>\n",
              "      <td>Harvard University</td>\n",
              "      <td>Cambridge, MA</td>\n",
              "      <td>United States of America</td>\n",
              "      <td>NaN</td>\n",
              "      <td>NaN</td>\n",
              "      <td>NaN</td>\n",
              "    </tr>\n",
              "    <tr>\n",
              "      <th>393</th>\n",
              "      <td>1967</td>\n",
              "      <td>Chemistry</td>\n",
              "      <td>The Nobel Prize in Chemistry 1967</td>\n",
              "      <td>\"for their studies of extremely fast chemical ...</td>\n",
              "      <td>1/2</td>\n",
              "      <td>233</td>\n",
              "      <td>Individual</td>\n",
              "      <td>Manfred Eigen</td>\n",
              "      <td>1927-05-09</td>\n",
              "      <td>Bochum</td>\n",
              "      <td>Germany</td>\n",
              "      <td>Male</td>\n",
              "      <td>Max-Planck-Institut für Physikalische Chemie</td>\n",
              "      <td>Göttingen</td>\n",
              "      <td>Federal Republic of Germany</td>\n",
              "      <td>NaN</td>\n",
              "      <td>NaN</td>\n",
              "      <td>NaN</td>\n",
              "    </tr>\n",
              "    <tr>\n",
              "      <th>417</th>\n",
              "      <td>1969</td>\n",
              "      <td>Physics</td>\n",
              "      <td>The Nobel Prize in Physics 1969</td>\n",
              "      <td>\"for his contributions and discoveries concern...</td>\n",
              "      <td>1/1</td>\n",
              "      <td>90</td>\n",
              "      <td>Individual</td>\n",
              "      <td>Murray Gell-Mann</td>\n",
              "      <td>1929-09-15</td>\n",
              "      <td>New York, NY</td>\n",
              "      <td>United States of America</td>\n",
              "      <td>Male</td>\n",
              "      <td>California Institute of Technology (Caltech)</td>\n",
              "      <td>Pasadena, CA</td>\n",
              "      <td>United States of America</td>\n",
              "      <td>NaN</td>\n",
              "      <td>NaN</td>\n",
              "      <td>NaN</td>\n",
              "    </tr>\n",
              "    <tr>\n",
              "      <th>...</th>\n",
              "      <td>...</td>\n",
              "      <td>...</td>\n",
              "      <td>...</td>\n",
              "      <td>...</td>\n",
              "      <td>...</td>\n",
              "      <td>...</td>\n",
              "      <td>...</td>\n",
              "      <td>...</td>\n",
              "      <td>...</td>\n",
              "      <td>...</td>\n",
              "      <td>...</td>\n",
              "      <td>...</td>\n",
              "      <td>...</td>\n",
              "      <td>...</td>\n",
              "      <td>...</td>\n",
              "      <td>...</td>\n",
              "      <td>...</td>\n",
              "      <td>...</td>\n",
              "    </tr>\n",
              "    <tr>\n",
              "      <th>964</th>\n",
              "      <td>2016</td>\n",
              "      <td>Medicine</td>\n",
              "      <td>The Nobel Prize in Physiology or Medicine 2016</td>\n",
              "      <td>\"for his discoveries of mechanisms for autophagy\"</td>\n",
              "      <td>1/1</td>\n",
              "      <td>927</td>\n",
              "      <td>Individual</td>\n",
              "      <td>Yoshinori Ohsumi</td>\n",
              "      <td>1945-02-09</td>\n",
              "      <td>Fukuoka</td>\n",
              "      <td>Japan</td>\n",
              "      <td>Male</td>\n",
              "      <td>Tokyo Institute of Technology</td>\n",
              "      <td>Tokyo</td>\n",
              "      <td>Japan</td>\n",
              "      <td>NaN</td>\n",
              "      <td>NaN</td>\n",
              "      <td>NaN</td>\n",
              "    </tr>\n",
              "    <tr>\n",
              "      <th>965</th>\n",
              "      <td>2016</td>\n",
              "      <td>Peace</td>\n",
              "      <td>The Nobel Peace Prize 2016</td>\n",
              "      <td>\"for his resolute efforts to bring the country...</td>\n",
              "      <td>1/1</td>\n",
              "      <td>934</td>\n",
              "      <td>Individual</td>\n",
              "      <td>Juan Manuel Santos</td>\n",
              "      <td>1951-08-10</td>\n",
              "      <td>Bogotá</td>\n",
              "      <td>Colombia</td>\n",
              "      <td>Male</td>\n",
              "      <td>NaN</td>\n",
              "      <td>NaN</td>\n",
              "      <td>NaN</td>\n",
              "      <td>NaN</td>\n",
              "      <td>NaN</td>\n",
              "      <td>NaN</td>\n",
              "    </tr>\n",
              "    <tr>\n",
              "      <th>966</th>\n",
              "      <td>2016</td>\n",
              "      <td>Physics</td>\n",
              "      <td>The Nobel Prize in Physics 2016</td>\n",
              "      <td>\"for theoretical discoveries of topological ph...</td>\n",
              "      <td>1/2</td>\n",
              "      <td>928</td>\n",
              "      <td>Individual</td>\n",
              "      <td>David J. Thouless</td>\n",
              "      <td>1934-09-21</td>\n",
              "      <td>Bearsden</td>\n",
              "      <td>United Kingdom</td>\n",
              "      <td>Male</td>\n",
              "      <td>University of Washington</td>\n",
              "      <td>Seattle, WA</td>\n",
              "      <td>United States of America</td>\n",
              "      <td>NaN</td>\n",
              "      <td>NaN</td>\n",
              "      <td>NaN</td>\n",
              "    </tr>\n",
              "    <tr>\n",
              "      <th>967</th>\n",
              "      <td>2016</td>\n",
              "      <td>Physics</td>\n",
              "      <td>The Nobel Prize in Physics 2016</td>\n",
              "      <td>\"for theoretical discoveries of topological ph...</td>\n",
              "      <td>1/4</td>\n",
              "      <td>929</td>\n",
              "      <td>Individual</td>\n",
              "      <td>F. Duncan M. Haldane</td>\n",
              "      <td>1951-09-14</td>\n",
              "      <td>London</td>\n",
              "      <td>United Kingdom</td>\n",
              "      <td>Male</td>\n",
              "      <td>Princeton University</td>\n",
              "      <td>Princeton, NJ</td>\n",
              "      <td>United States of America</td>\n",
              "      <td>NaN</td>\n",
              "      <td>NaN</td>\n",
              "      <td>NaN</td>\n",
              "    </tr>\n",
              "    <tr>\n",
              "      <th>968</th>\n",
              "      <td>2016</td>\n",
              "      <td>Physics</td>\n",
              "      <td>The Nobel Prize in Physics 2016</td>\n",
              "      <td>\"for theoretical discoveries of topological ph...</td>\n",
              "      <td>1/4</td>\n",
              "      <td>930</td>\n",
              "      <td>Individual</td>\n",
              "      <td>J. Michael Kosterlitz</td>\n",
              "      <td>1943-06-22</td>\n",
              "      <td>Aberdeen</td>\n",
              "      <td>United Kingdom</td>\n",
              "      <td>Male</td>\n",
              "      <td>Brown University</td>\n",
              "      <td>Providence, RI</td>\n",
              "      <td>United States of America</td>\n",
              "      <td>NaN</td>\n",
              "      <td>NaN</td>\n",
              "      <td>NaN</td>\n",
              "    </tr>\n",
              "  </tbody>\n",
              "</table>\n",
              "<p>324 rows × 18 columns</p>\n",
              "</div>"
            ],
            "text/plain": [
              "     Year   Category  ... Death City Death Country\n",
              "318  1957    Physics  ...        NaN           NaN\n",
              "319  1957    Physics  ...        NaN           NaN\n",
              "355  1962   Medicine  ...        NaN           NaN\n",
              "393  1967  Chemistry  ...        NaN           NaN\n",
              "417  1969    Physics  ...        NaN           NaN\n",
              "..    ...        ...  ...        ...           ...\n",
              "964  2016   Medicine  ...        NaN           NaN\n",
              "965  2016      Peace  ...        NaN           NaN\n",
              "966  2016    Physics  ...        NaN           NaN\n",
              "967  2016    Physics  ...        NaN           NaN\n",
              "968  2016    Physics  ...        NaN           NaN\n",
              "\n",
              "[324 rows x 18 columns]"
            ]
          },
          "metadata": {
            "tags": []
          },
          "execution_count": 7
        }
      ]
    },
    {
      "cell_type": "markdown",
      "metadata": {
        "id": "yXIS7eQUb0Lg"
      },
      "source": [
        "Most of the names mentioned here, are still alive or passed away after this dataset has been released, 2019. So we can assume for instance that those with missing death dates are still alive. That is when we come to calculate the age by subtracting `Birth Date` form the `Death Date` we can replace the null values in the `Death Date` by 2020 to compute the age."
      ]
    },
    {
      "cell_type": "code",
      "metadata": {
        "id": "EJhl8kYvbz_p",
        "outputId": "45e9f551-e61b-4240-8eb6-9a0378432c32",
        "colab": {
          "base_uri": "https://localhost:8080/"
        }
      },
      "source": [
        "# To fill NaNs with a certain value use the fillna() method, we can do that under a certain condition\n",
        "nobel_prize_df['Death Date'] = nobel_prize_df[nobel_prize_df['Laureate Type']!='Organization'][\"Death Date\"].fillna(2020)\n",
        "nobel_prize_df.loc[967]"
      ],
      "execution_count": null,
      "outputs": [
        {
          "output_type": "execute_result",
          "data": {
            "text/plain": [
              "Year                                                                 2016\n",
              "Category                                                          Physics\n",
              "Prize                                     The Nobel Prize in Physics 2016\n",
              "Motivation              \"for theoretical discoveries of topological ph...\n",
              "Prize Share                                                           1/4\n",
              "Laureate ID                                                           929\n",
              "Laureate Type                                                  Individual\n",
              "Full Name                                            F. Duncan M. Haldane\n",
              "Birth Date                                                     1951-09-14\n",
              "Birth City                                                         London\n",
              "Birth Country                                              United Kingdom\n",
              "Sex                                                                  Male\n",
              "Organization Name                                    Princeton University\n",
              "Organization City                                           Princeton, NJ\n",
              "Organization Country                             United States of America\n",
              "Death Date                                                           2020\n",
              "Death City                                                            NaN\n",
              "Death Country                                                         NaN\n",
              "Name: 967, dtype: object"
            ]
          },
          "metadata": {
            "tags": []
          },
          "execution_count": 8
        }
      ]
    },
    {
      "cell_type": "markdown",
      "metadata": {
        "id": "MPWlmREkb4bp"
      },
      "source": [
        "Now let's observe how many Death Dates are still null. Probably, those who are related to an `Organization`."
      ]
    },
    {
      "cell_type": "code",
      "metadata": {
        "id": "mKp9SFZIb6PZ",
        "outputId": "7c5de797-8110-4367-c8a1-815f003d39a0",
        "colab": {
          "base_uri": "https://localhost:8080/"
        }
      },
      "source": [
        "nobel_prize_df.isnull().sum()"
      ],
      "execution_count": null,
      "outputs": [
        {
          "output_type": "execute_result",
          "data": {
            "text/plain": [
              "Year                      0\n",
              "Category                  0\n",
              "Prize                     0\n",
              "Motivation               88\n",
              "Prize Share               0\n",
              "Laureate ID               0\n",
              "Laureate Type             0\n",
              "Full Name                 0\n",
              "Birth Date               29\n",
              "Birth City               28\n",
              "Birth Country            26\n",
              "Sex                      26\n",
              "Organization Name       247\n",
              "Organization City       253\n",
              "Organization Country    253\n",
              "Death Date               30\n",
              "Death City              370\n",
              "Death Country           364\n",
              "dtype: int64"
            ]
          },
          "metadata": {
            "tags": []
          },
          "execution_count": 9
        }
      ]
    },
    {
      "cell_type": "markdown",
      "metadata": {
        "id": "PxjJIgoEb8LJ"
      },
      "source": [
        "Notice how we went from 300+ missing values to 30 only!"
      ]
    },
    {
      "cell_type": "code",
      "metadata": {
        "id": "TFTdQT3lb-sj",
        "outputId": "d48b13f4-0c09-4d42-e5ab-0731de49fff7",
        "colab": {
          "base_uri": "https://localhost:8080/"
        }
      },
      "source": [
        "nobel_prize_df[nobel_prize_df['Laureate Type']=='Organization'].isnull().sum()"
      ],
      "execution_count": null,
      "outputs": [
        {
          "output_type": "execute_result",
          "data": {
            "text/plain": [
              "Year                     0\n",
              "Category                 0\n",
              "Prize                    0\n",
              "Motivation              19\n",
              "Prize Share              0\n",
              "Laureate ID              0\n",
              "Laureate Type            0\n",
              "Full Name                0\n",
              "Birth Date              26\n",
              "Birth City              26\n",
              "Birth Country           26\n",
              "Sex                     26\n",
              "Organization Name       30\n",
              "Organization City       30\n",
              "Organization Country    30\n",
              "Death Date              30\n",
              "Death City              28\n",
              "Death Country           28\n",
              "dtype: int64"
            ]
          },
          "metadata": {
            "tags": []
          },
          "execution_count": 10
        }
      ]
    },
    {
      "cell_type": "markdown",
      "metadata": {
        "id": "5ddsOY_qb_TE"
      },
      "source": [
        "Note that the other 30 missing values are coming from Organization winners"
      ]
    },
    {
      "cell_type": "markdown",
      "metadata": {
        "id": "gkRuGBVDcDP8"
      },
      "source": [
        "### **Cars Data Set**"
      ]
    },
    {
      "cell_type": "markdown",
      "metadata": {
        "id": "uvgTcvGccJpM"
      },
      "source": [
        "Start by reading the dataset related to car models: https://raw.githubusercontent.com/harshitroy2605/missing-value-in-dataset/master/cars.csv"
      ]
    },
    {
      "cell_type": "code",
      "metadata": {
        "id": "J7_XQICMcDuy",
        "outputId": "2b90f8f0-1158-4d0b-e127-79f56e134fbe",
        "colab": {
          "base_uri": "https://localhost:8080/",
          "height": 202
        }
      },
      "source": [
        "import pandas as pd\n",
        "df_cars= pd.read_csv('https://raw.githubusercontent.com/harshitroy2605/missing-value-in-dataset/master/cars.csv', sep=\";\")\n",
        "df_cars.head()"
      ],
      "execution_count": null,
      "outputs": [
        {
          "output_type": "execute_result",
          "data": {
            "text/html": [
              "<div>\n",
              "<style scoped>\n",
              "    .dataframe tbody tr th:only-of-type {\n",
              "        vertical-align: middle;\n",
              "    }\n",
              "\n",
              "    .dataframe tbody tr th {\n",
              "        vertical-align: top;\n",
              "    }\n",
              "\n",
              "    .dataframe thead th {\n",
              "        text-align: right;\n",
              "    }\n",
              "</style>\n",
              "<table border=\"1\" class=\"dataframe\">\n",
              "  <thead>\n",
              "    <tr style=\"text-align: right;\">\n",
              "      <th></th>\n",
              "      <th>Car</th>\n",
              "      <th>MPG</th>\n",
              "      <th>Cylinders</th>\n",
              "      <th>Displacement</th>\n",
              "      <th>Horsepower</th>\n",
              "      <th>Weight</th>\n",
              "      <th>Acceleration</th>\n",
              "      <th>Model</th>\n",
              "      <th>Origin</th>\n",
              "    </tr>\n",
              "  </thead>\n",
              "  <tbody>\n",
              "    <tr>\n",
              "      <th>0</th>\n",
              "      <td>STRING</td>\n",
              "      <td>DOUBLE</td>\n",
              "      <td>INT</td>\n",
              "      <td>DOUBLE</td>\n",
              "      <td>DOUBLE</td>\n",
              "      <td>DOUBLE</td>\n",
              "      <td>DOUBLE</td>\n",
              "      <td>INT</td>\n",
              "      <td>CAT</td>\n",
              "    </tr>\n",
              "    <tr>\n",
              "      <th>1</th>\n",
              "      <td>Chevrolet Chevelle Malibu</td>\n",
              "      <td>NaN</td>\n",
              "      <td>8</td>\n",
              "      <td>307.0</td>\n",
              "      <td>130.0</td>\n",
              "      <td>3504.</td>\n",
              "      <td>12.0</td>\n",
              "      <td>70</td>\n",
              "      <td>US</td>\n",
              "    </tr>\n",
              "    <tr>\n",
              "      <th>2</th>\n",
              "      <td>Buick Skylark 320</td>\n",
              "      <td>15.0</td>\n",
              "      <td>8</td>\n",
              "      <td>350.0</td>\n",
              "      <td>NaN</td>\n",
              "      <td>3693.</td>\n",
              "      <td>11.5</td>\n",
              "      <td>70</td>\n",
              "      <td>US</td>\n",
              "    </tr>\n",
              "    <tr>\n",
              "      <th>3</th>\n",
              "      <td>Plymouth Satellite</td>\n",
              "      <td>NaN</td>\n",
              "      <td>8</td>\n",
              "      <td>318.0</td>\n",
              "      <td>150.0</td>\n",
              "      <td>3436.</td>\n",
              "      <td>11.0</td>\n",
              "      <td>70</td>\n",
              "      <td>US</td>\n",
              "    </tr>\n",
              "    <tr>\n",
              "      <th>4</th>\n",
              "      <td>AMC Rebel SST</td>\n",
              "      <td>16.0</td>\n",
              "      <td>8</td>\n",
              "      <td>NaN</td>\n",
              "      <td>150.0</td>\n",
              "      <td>NaN</td>\n",
              "      <td>12.0</td>\n",
              "      <td>70</td>\n",
              "      <td>US</td>\n",
              "    </tr>\n",
              "  </tbody>\n",
              "</table>\n",
              "</div>"
            ],
            "text/plain": [
              "                         Car     MPG Cylinders  ... Acceleration Model Origin\n",
              "0                     STRING  DOUBLE       INT  ...       DOUBLE   INT    CAT\n",
              "1  Chevrolet Chevelle Malibu     NaN         8  ...         12.0    70     US\n",
              "2          Buick Skylark 320    15.0         8  ...         11.5    70     US\n",
              "3         Plymouth Satellite     NaN         8  ...         11.0    70     US\n",
              "4              AMC Rebel SST    16.0         8  ...         12.0    70     US\n",
              "\n",
              "[5 rows x 9 columns]"
            ]
          },
          "metadata": {
            "tags": []
          },
          "execution_count": 11
        }
      ]
    },
    {
      "cell_type": "markdown",
      "metadata": {
        "id": "T8l9fMfvcTB0"
      },
      "source": [
        "Let's observe the columns with null values. We have two ways to go. Either by using the `info() `function or by using `isnull().sum()` function "
      ]
    },
    {
      "cell_type": "code",
      "metadata": {
        "id": "qYEGPJBZcOec",
        "outputId": "983b1e68-c0c1-4f41-b1b5-e0ce5b5db4a3",
        "colab": {
          "base_uri": "https://localhost:8080/"
        }
      },
      "source": [
        "df_cars.info()"
      ],
      "execution_count": null,
      "outputs": [
        {
          "output_type": "stream",
          "text": [
            "<class 'pandas.core.frame.DataFrame'>\n",
            "RangeIndex: 407 entries, 0 to 406\n",
            "Data columns (total 9 columns):\n",
            " #   Column        Non-Null Count  Dtype \n",
            "---  ------        --------------  ----- \n",
            " 0   Car           407 non-null    object\n",
            " 1   MPG           404 non-null    object\n",
            " 2   Cylinders     407 non-null    object\n",
            " 3   Displacement  406 non-null    object\n",
            " 4   Horsepower    405 non-null    object\n",
            " 5   Weight        406 non-null    object\n",
            " 6   Acceleration  407 non-null    object\n",
            " 7   Model         407 non-null    object\n",
            " 8   Origin        407 non-null    object\n",
            "dtypes: object(9)\n",
            "memory usage: 28.7+ KB\n"
          ],
          "name": "stdout"
        }
      ]
    },
    {
      "cell_type": "code",
      "metadata": {
        "id": "Ym6HwDulcbJ8",
        "outputId": "5a8011a1-d6b3-4906-941a-6dae77558555",
        "colab": {
          "base_uri": "https://localhost:8080/"
        }
      },
      "source": [
        "# get the number of missing data points per column\n",
        "missing_values_count_cars = df_cars.isnull().sum()\n",
        "#look at the missing value\n",
        "print(missing_values_count_cars)"
      ],
      "execution_count": null,
      "outputs": [
        {
          "output_type": "stream",
          "text": [
            "Car             0\n",
            "MPG             3\n",
            "Cylinders       0\n",
            "Displacement    1\n",
            "Horsepower      2\n",
            "Weight          1\n",
            "Acceleration    0\n",
            "Model           0\n",
            "Origin          0\n",
            "dtype: int64\n"
          ],
          "name": "stdout"
        }
      ]
    },
    {
      "cell_type": "markdown",
      "metadata": {
        "id": "dNhHrCzrcdnd"
      },
      "source": [
        "There aren't many missing values. Let's take a glimpse at the percentage of the missing values:\n",
        "\n",
        "**HINT:** We'll need `Numpy` for the below task."
      ]
    },
    {
      "cell_type": "code",
      "metadata": {
        "id": "-ZGLSzmNchzV",
        "outputId": "efee16f1-9217-4f7b-fdc4-1dd91f891291",
        "colab": {
          "base_uri": "https://localhost:8080/"
        }
      },
      "source": [
        "import numpy as np\n",
        "# How many total missing values do we have?\n",
        "# shape returns the dimentionality of a dataframe (rows and columns), can you guess what product will do?\n",
        "total_cells_cars = np.product(df_cars.shape) \n",
        "total_missing_cars = missing_values_count_cars.sum()\n",
        "\n",
        "# percent of data that is missing\n",
        "percentage_missign_values_cars = (total_missing_cars/total_cells_cars) * 100\n",
        "print(percentage_missign_values_cars)"
      ],
      "execution_count": null,
      "outputs": [
        {
          "output_type": "stream",
          "text": [
            "0.19110019110019108\n"
          ],
          "name": "stdout"
        }
      ]
    },
    {
      "cell_type": "markdown",
      "metadata": {
        "id": "MrD5gZWFcPeb"
      },
      "source": [
        "Around *0.19%* of the values are missing, which isn't a lot. Therefore, we might go with the option of dropping all the rows with null values."
      ]
    },
    {
      "cell_type": "code",
      "metadata": {
        "id": "-OMPQdoMctad",
        "outputId": "fcecbaeb-dd9c-4012-e75e-14e38119499a",
        "colab": {
          "base_uri": "https://localhost:8080/",
          "height": 202
        }
      },
      "source": [
        "df_cars_cleaned = df_cars.dropna() #this will drop the rows with null values\n",
        "df_cars_cleaned.head()"
      ],
      "execution_count": null,
      "outputs": [
        {
          "output_type": "execute_result",
          "data": {
            "text/html": [
              "<div>\n",
              "<style scoped>\n",
              "    .dataframe tbody tr th:only-of-type {\n",
              "        vertical-align: middle;\n",
              "    }\n",
              "\n",
              "    .dataframe tbody tr th {\n",
              "        vertical-align: top;\n",
              "    }\n",
              "\n",
              "    .dataframe thead th {\n",
              "        text-align: right;\n",
              "    }\n",
              "</style>\n",
              "<table border=\"1\" class=\"dataframe\">\n",
              "  <thead>\n",
              "    <tr style=\"text-align: right;\">\n",
              "      <th></th>\n",
              "      <th>Car</th>\n",
              "      <th>MPG</th>\n",
              "      <th>Cylinders</th>\n",
              "      <th>Displacement</th>\n",
              "      <th>Horsepower</th>\n",
              "      <th>Weight</th>\n",
              "      <th>Acceleration</th>\n",
              "      <th>Model</th>\n",
              "      <th>Origin</th>\n",
              "    </tr>\n",
              "  </thead>\n",
              "  <tbody>\n",
              "    <tr>\n",
              "      <th>0</th>\n",
              "      <td>STRING</td>\n",
              "      <td>DOUBLE</td>\n",
              "      <td>INT</td>\n",
              "      <td>DOUBLE</td>\n",
              "      <td>DOUBLE</td>\n",
              "      <td>DOUBLE</td>\n",
              "      <td>DOUBLE</td>\n",
              "      <td>INT</td>\n",
              "      <td>CAT</td>\n",
              "    </tr>\n",
              "    <tr>\n",
              "      <th>5</th>\n",
              "      <td>Ford Torino</td>\n",
              "      <td>17.0</td>\n",
              "      <td>8</td>\n",
              "      <td>302.0</td>\n",
              "      <td>140.0</td>\n",
              "      <td>3449.</td>\n",
              "      <td>10.5</td>\n",
              "      <td>70</td>\n",
              "      <td>US</td>\n",
              "    </tr>\n",
              "    <tr>\n",
              "      <th>7</th>\n",
              "      <td>Chevrolet Impala</td>\n",
              "      <td>14.0</td>\n",
              "      <td>8</td>\n",
              "      <td>454.0</td>\n",
              "      <td>220.0</td>\n",
              "      <td>4354.</td>\n",
              "      <td>9.0</td>\n",
              "      <td>70</td>\n",
              "      <td>US</td>\n",
              "    </tr>\n",
              "    <tr>\n",
              "      <th>8</th>\n",
              "      <td>Plymouth Fury iii</td>\n",
              "      <td>14.0</td>\n",
              "      <td>8</td>\n",
              "      <td>440.0</td>\n",
              "      <td>215.0</td>\n",
              "      <td>4312.</td>\n",
              "      <td>8.5</td>\n",
              "      <td>70</td>\n",
              "      <td>US</td>\n",
              "    </tr>\n",
              "    <tr>\n",
              "      <th>9</th>\n",
              "      <td>Pontiac Catalina</td>\n",
              "      <td>14.0</td>\n",
              "      <td>8</td>\n",
              "      <td>455.0</td>\n",
              "      <td>225.0</td>\n",
              "      <td>4425.</td>\n",
              "      <td>10.0</td>\n",
              "      <td>70</td>\n",
              "      <td>US</td>\n",
              "    </tr>\n",
              "  </tbody>\n",
              "</table>\n",
              "</div>"
            ],
            "text/plain": [
              "                 Car     MPG Cylinders  ... Acceleration Model Origin\n",
              "0             STRING  DOUBLE       INT  ...       DOUBLE   INT    CAT\n",
              "5        Ford Torino    17.0         8  ...         10.5    70     US\n",
              "7   Chevrolet Impala    14.0         8  ...          9.0    70     US\n",
              "8  Plymouth Fury iii    14.0         8  ...          8.5    70     US\n",
              "9   Pontiac Catalina    14.0         8  ...         10.0    70     US\n",
              "\n",
              "[5 rows x 9 columns]"
            ]
          },
          "metadata": {
            "tags": []
          },
          "execution_count": 15
        }
      ]
    },
    {
      "cell_type": "code",
      "metadata": {
        "id": "v0-AB33-cu4N",
        "outputId": "679a2d95-53c6-4698-9755-de25581f0b79",
        "colab": {
          "base_uri": "https://localhost:8080/",
          "height": 202
        }
      },
      "source": [
        "df_cars_cleaned_null_cols = df_cars.dropna(axis=1) #this will drop the columns with null values\n",
        "df_cars_cleaned_null_cols.head()"
      ],
      "execution_count": null,
      "outputs": [
        {
          "output_type": "execute_result",
          "data": {
            "text/html": [
              "<div>\n",
              "<style scoped>\n",
              "    .dataframe tbody tr th:only-of-type {\n",
              "        vertical-align: middle;\n",
              "    }\n",
              "\n",
              "    .dataframe tbody tr th {\n",
              "        vertical-align: top;\n",
              "    }\n",
              "\n",
              "    .dataframe thead th {\n",
              "        text-align: right;\n",
              "    }\n",
              "</style>\n",
              "<table border=\"1\" class=\"dataframe\">\n",
              "  <thead>\n",
              "    <tr style=\"text-align: right;\">\n",
              "      <th></th>\n",
              "      <th>Car</th>\n",
              "      <th>Cylinders</th>\n",
              "      <th>Acceleration</th>\n",
              "      <th>Model</th>\n",
              "      <th>Origin</th>\n",
              "    </tr>\n",
              "  </thead>\n",
              "  <tbody>\n",
              "    <tr>\n",
              "      <th>0</th>\n",
              "      <td>STRING</td>\n",
              "      <td>INT</td>\n",
              "      <td>DOUBLE</td>\n",
              "      <td>INT</td>\n",
              "      <td>CAT</td>\n",
              "    </tr>\n",
              "    <tr>\n",
              "      <th>1</th>\n",
              "      <td>Chevrolet Chevelle Malibu</td>\n",
              "      <td>8</td>\n",
              "      <td>12.0</td>\n",
              "      <td>70</td>\n",
              "      <td>US</td>\n",
              "    </tr>\n",
              "    <tr>\n",
              "      <th>2</th>\n",
              "      <td>Buick Skylark 320</td>\n",
              "      <td>8</td>\n",
              "      <td>11.5</td>\n",
              "      <td>70</td>\n",
              "      <td>US</td>\n",
              "    </tr>\n",
              "    <tr>\n",
              "      <th>3</th>\n",
              "      <td>Plymouth Satellite</td>\n",
              "      <td>8</td>\n",
              "      <td>11.0</td>\n",
              "      <td>70</td>\n",
              "      <td>US</td>\n",
              "    </tr>\n",
              "    <tr>\n",
              "      <th>4</th>\n",
              "      <td>AMC Rebel SST</td>\n",
              "      <td>8</td>\n",
              "      <td>12.0</td>\n",
              "      <td>70</td>\n",
              "      <td>US</td>\n",
              "    </tr>\n",
              "  </tbody>\n",
              "</table>\n",
              "</div>"
            ],
            "text/plain": [
              "                         Car Cylinders Acceleration Model Origin\n",
              "0                     STRING       INT       DOUBLE   INT    CAT\n",
              "1  Chevrolet Chevelle Malibu         8         12.0    70     US\n",
              "2          Buick Skylark 320         8         11.5    70     US\n",
              "3         Plymouth Satellite         8         11.0    70     US\n",
              "4              AMC Rebel SST         8         12.0    70     US"
            ]
          },
          "metadata": {
            "tags": []
          },
          "execution_count": 16
        }
      ]
    },
    {
      "cell_type": "markdown",
      "metadata": {
        "id": "-aZZKmMwcykN"
      },
      "source": [
        "Let's observe how many columns we lost"
      ]
    },
    {
      "cell_type": "code",
      "metadata": {
        "id": "hs5Di5VXc0Y9",
        "outputId": "d5dc1786-499d-4095-fa9f-341be9dde013",
        "colab": {
          "base_uri": "https://localhost:8080/"
        }
      },
      "source": [
        "print(\"Columns in original dataset: %d \\n\" % df_cars.shape[1])\n",
        "print(\"Columns with na's dropped: %d\" % df_cars_cleaned_null_cols.shape[1])"
      ],
      "execution_count": null,
      "outputs": [
        {
          "output_type": "stream",
          "text": [
            "Columns in original dataset: 9 \n",
            "\n",
            "Columns with na's dropped: 5\n"
          ],
          "name": "stdout"
        }
      ]
    },
    {
      "cell_type": "markdown",
      "metadata": {
        "id": "3Uvfy6Roc3LN"
      },
      "source": [
        "### **Cars Dataset - Filling in missing values automatically**\n",
        "\n",
        "Another option is to try and fill in the missing values through imputations."
      ]
    },
    {
      "cell_type": "markdown",
      "metadata": {
        "id": "yNuqQzi1c6QG"
      },
      "source": [
        "Let's take the `MPG` column for example. We can fill in the missing values with 0s through the following line of code:\n",
        "\n",
        "`df_cars.fillna(0) `. "
      ]
    },
    {
      "cell_type": "code",
      "metadata": {
        "id": "mHpFT7ORc60G"
      },
      "source": [
        "df_cars_temp = df_cars.fillna(0)"
      ],
      "execution_count": null,
      "outputs": []
    },
    {
      "cell_type": "code",
      "metadata": {
        "id": "xcFGCaexc-AP",
        "outputId": "87664c51-7bc3-4f8b-b663-d254d7b1bd30",
        "colab": {
          "base_uri": "https://localhost:8080/",
          "height": 202
        }
      },
      "source": [
        "df_cars_temp.head()"
      ],
      "execution_count": null,
      "outputs": [
        {
          "output_type": "execute_result",
          "data": {
            "text/html": [
              "<div>\n",
              "<style scoped>\n",
              "    .dataframe tbody tr th:only-of-type {\n",
              "        vertical-align: middle;\n",
              "    }\n",
              "\n",
              "    .dataframe tbody tr th {\n",
              "        vertical-align: top;\n",
              "    }\n",
              "\n",
              "    .dataframe thead th {\n",
              "        text-align: right;\n",
              "    }\n",
              "</style>\n",
              "<table border=\"1\" class=\"dataframe\">\n",
              "  <thead>\n",
              "    <tr style=\"text-align: right;\">\n",
              "      <th></th>\n",
              "      <th>Car</th>\n",
              "      <th>MPG</th>\n",
              "      <th>Cylinders</th>\n",
              "      <th>Displacement</th>\n",
              "      <th>Horsepower</th>\n",
              "      <th>Weight</th>\n",
              "      <th>Acceleration</th>\n",
              "      <th>Model</th>\n",
              "      <th>Origin</th>\n",
              "    </tr>\n",
              "  </thead>\n",
              "  <tbody>\n",
              "    <tr>\n",
              "      <th>0</th>\n",
              "      <td>STRING</td>\n",
              "      <td>DOUBLE</td>\n",
              "      <td>INT</td>\n",
              "      <td>DOUBLE</td>\n",
              "      <td>DOUBLE</td>\n",
              "      <td>DOUBLE</td>\n",
              "      <td>DOUBLE</td>\n",
              "      <td>INT</td>\n",
              "      <td>CAT</td>\n",
              "    </tr>\n",
              "    <tr>\n",
              "      <th>1</th>\n",
              "      <td>Chevrolet Chevelle Malibu</td>\n",
              "      <td>0</td>\n",
              "      <td>8</td>\n",
              "      <td>307.0</td>\n",
              "      <td>130.0</td>\n",
              "      <td>3504.</td>\n",
              "      <td>12.0</td>\n",
              "      <td>70</td>\n",
              "      <td>US</td>\n",
              "    </tr>\n",
              "    <tr>\n",
              "      <th>2</th>\n",
              "      <td>Buick Skylark 320</td>\n",
              "      <td>15.0</td>\n",
              "      <td>8</td>\n",
              "      <td>350.0</td>\n",
              "      <td>0</td>\n",
              "      <td>3693.</td>\n",
              "      <td>11.5</td>\n",
              "      <td>70</td>\n",
              "      <td>US</td>\n",
              "    </tr>\n",
              "    <tr>\n",
              "      <th>3</th>\n",
              "      <td>Plymouth Satellite</td>\n",
              "      <td>0</td>\n",
              "      <td>8</td>\n",
              "      <td>318.0</td>\n",
              "      <td>150.0</td>\n",
              "      <td>3436.</td>\n",
              "      <td>11.0</td>\n",
              "      <td>70</td>\n",
              "      <td>US</td>\n",
              "    </tr>\n",
              "    <tr>\n",
              "      <th>4</th>\n",
              "      <td>AMC Rebel SST</td>\n",
              "      <td>16.0</td>\n",
              "      <td>8</td>\n",
              "      <td>0</td>\n",
              "      <td>150.0</td>\n",
              "      <td>0</td>\n",
              "      <td>12.0</td>\n",
              "      <td>70</td>\n",
              "      <td>US</td>\n",
              "    </tr>\n",
              "  </tbody>\n",
              "</table>\n",
              "</div>"
            ],
            "text/plain": [
              "                         Car     MPG Cylinders  ... Acceleration Model Origin\n",
              "0                     STRING  DOUBLE       INT  ...       DOUBLE   INT    CAT\n",
              "1  Chevrolet Chevelle Malibu       0         8  ...         12.0    70     US\n",
              "2          Buick Skylark 320    15.0         8  ...         11.5    70     US\n",
              "3         Plymouth Satellite       0         8  ...         11.0    70     US\n",
              "4              AMC Rebel SST    16.0         8  ...         12.0    70     US\n",
              "\n",
              "[5 rows x 9 columns]"
            ]
          },
          "metadata": {
            "tags": []
          },
          "execution_count": 19
        }
      ]
    },
    {
      "cell_type": "markdown",
      "metadata": {
        "id": "zTj3MB2NdALv"
      },
      "source": [
        "However, this does not make much sense as there isn't MPG equal to 0. How about we plot the MPG column and if it follows a random distribution we can use the mean of the column to compute the missing values. Otherwise, we can use the median (if there is a skewed normal distribution). However, there might be a better way of imputation which is getting the median or the mean of the MPG of the cars with similar attributes."
      ]
    },
    {
      "cell_type": "code",
      "metadata": {
        "id": "pEu34clQdCLV"
      },
      "source": [
        "import seaborn as sns \n",
        "import matplotlib.pyplot as plt\n",
        "current_MPG = df_cars_cleaned.loc[1:,]['MPG']\n",
        "current_MPG = current_MPG.astype(float)"
      ],
      "execution_count": null,
      "outputs": []
    },
    {
      "cell_type": "code",
      "metadata": {
        "id": "jUmQPnm7dUHv"
      },
      "source": [
        "mpg_list = current_MPG.sort_values(ascending=True).values.tolist()"
      ],
      "execution_count": null,
      "outputs": []
    },
    {
      "cell_type": "code",
      "metadata": {
        "id": "Cmxxc_-idVqf",
        "outputId": "7b2c0106-fb6e-4315-fa38-3f4a3a034c74",
        "colab": {
          "base_uri": "https://localhost:8080/",
          "height": 400
        }
      },
      "source": [
        "bins = [0,5,10,15,20,25,30,35,40,45,50]\n",
        "ax = sns.displot(x=mpg_list,bins=bins,kde=True)\n",
        "ax.set(xlabel=\"MPG\",ylabel=\"Count\")"
      ],
      "execution_count": null,
      "outputs": [
        {
          "output_type": "execute_result",
          "data": {
            "text/plain": [
              "<seaborn.axisgrid.FacetGrid at 0x7f864d881cf8>"
            ]
          },
          "metadata": {
            "tags": []
          },
          "execution_count": 22
        },
        {
          "output_type": "display_data",
          "data": {
            "image/png": "[encoded data removed]",
            "text/plain": [
              "<Figure size 360x360 with 1 Axes>"
            ]
          },
          "metadata": {
            "tags": [],
            "needs_background": "light"
          }
        }
      ]
    },
    {
      "cell_type": "markdown",
      "metadata": {
        "id": "KoX1dc8pdc54"
      },
      "source": [
        "If we observe the graph above, we can consider it in a way or another normally distributed. Therefore, we can impute the missing values using the mean."
      ]
    },
    {
      "cell_type": "code",
      "metadata": {
        "id": "cC7EGPQXdglX"
      },
      "source": [
        "df_cars = df_cars.iloc[1:] #drop the first row from df_cars\n"
      ],
      "execution_count": null,
      "outputs": []
    },
    {
      "cell_type": "code",
      "metadata": {
        "id": "OdOW6IXgdiOo",
        "outputId": "84018bc9-685c-4ffb-8ae9-90f8ef01b38e",
        "colab": {
          "base_uri": "https://localhost:8080/",
          "height": 416
        }
      },
      "source": [
        "df_cars_cleaned = df_cars_cleaned.iloc[1:] #drop the first row from df_cars_cleaned\n",
        "df_cars_cleaned"
      ],
      "execution_count": null,
      "outputs": [
        {
          "output_type": "execute_result",
          "data": {
            "text/html": [
              "<div>\n",
              "<style scoped>\n",
              "    .dataframe tbody tr th:only-of-type {\n",
              "        vertical-align: middle;\n",
              "    }\n",
              "\n",
              "    .dataframe tbody tr th {\n",
              "        vertical-align: top;\n",
              "    }\n",
              "\n",
              "    .dataframe thead th {\n",
              "        text-align: right;\n",
              "    }\n",
              "</style>\n",
              "<table border=\"1\" class=\"dataframe\">\n",
              "  <thead>\n",
              "    <tr style=\"text-align: right;\">\n",
              "      <th></th>\n",
              "      <th>Car</th>\n",
              "      <th>MPG</th>\n",
              "      <th>Cylinders</th>\n",
              "      <th>Displacement</th>\n",
              "      <th>Horsepower</th>\n",
              "      <th>Weight</th>\n",
              "      <th>Acceleration</th>\n",
              "      <th>Model</th>\n",
              "      <th>Origin</th>\n",
              "    </tr>\n",
              "  </thead>\n",
              "  <tbody>\n",
              "    <tr>\n",
              "      <th>5</th>\n",
              "      <td>Ford Torino</td>\n",
              "      <td>17.0</td>\n",
              "      <td>8</td>\n",
              "      <td>302.0</td>\n",
              "      <td>140.0</td>\n",
              "      <td>3449.</td>\n",
              "      <td>10.5</td>\n",
              "      <td>70</td>\n",
              "      <td>US</td>\n",
              "    </tr>\n",
              "    <tr>\n",
              "      <th>7</th>\n",
              "      <td>Chevrolet Impala</td>\n",
              "      <td>14.0</td>\n",
              "      <td>8</td>\n",
              "      <td>454.0</td>\n",
              "      <td>220.0</td>\n",
              "      <td>4354.</td>\n",
              "      <td>9.0</td>\n",
              "      <td>70</td>\n",
              "      <td>US</td>\n",
              "    </tr>\n",
              "    <tr>\n",
              "      <th>8</th>\n",
              "      <td>Plymouth Fury iii</td>\n",
              "      <td>14.0</td>\n",
              "      <td>8</td>\n",
              "      <td>440.0</td>\n",
              "      <td>215.0</td>\n",
              "      <td>4312.</td>\n",
              "      <td>8.5</td>\n",
              "      <td>70</td>\n",
              "      <td>US</td>\n",
              "    </tr>\n",
              "    <tr>\n",
              "      <th>9</th>\n",
              "      <td>Pontiac Catalina</td>\n",
              "      <td>14.0</td>\n",
              "      <td>8</td>\n",
              "      <td>455.0</td>\n",
              "      <td>225.0</td>\n",
              "      <td>4425.</td>\n",
              "      <td>10.0</td>\n",
              "      <td>70</td>\n",
              "      <td>US</td>\n",
              "    </tr>\n",
              "    <tr>\n",
              "      <th>10</th>\n",
              "      <td>AMC Ambassador DPL</td>\n",
              "      <td>15.0</td>\n",
              "      <td>8</td>\n",
              "      <td>390.0</td>\n",
              "      <td>190.0</td>\n",
              "      <td>3850.</td>\n",
              "      <td>8.5</td>\n",
              "      <td>70</td>\n",
              "      <td>US</td>\n",
              "    </tr>\n",
              "    <tr>\n",
              "      <th>...</th>\n",
              "      <td>...</td>\n",
              "      <td>...</td>\n",
              "      <td>...</td>\n",
              "      <td>...</td>\n",
              "      <td>...</td>\n",
              "      <td>...</td>\n",
              "      <td>...</td>\n",
              "      <td>...</td>\n",
              "      <td>...</td>\n",
              "    </tr>\n",
              "    <tr>\n",
              "      <th>402</th>\n",
              "      <td>Ford Mustang GL</td>\n",
              "      <td>27.0</td>\n",
              "      <td>4</td>\n",
              "      <td>140.0</td>\n",
              "      <td>86.00</td>\n",
              "      <td>2790.</td>\n",
              "      <td>15.6</td>\n",
              "      <td>82</td>\n",
              "      <td>US</td>\n",
              "    </tr>\n",
              "    <tr>\n",
              "      <th>403</th>\n",
              "      <td>Volkswagen Pickup</td>\n",
              "      <td>44.0</td>\n",
              "      <td>4</td>\n",
              "      <td>97.00</td>\n",
              "      <td>52.00</td>\n",
              "      <td>2130.</td>\n",
              "      <td>24.6</td>\n",
              "      <td>82</td>\n",
              "      <td>Europe</td>\n",
              "    </tr>\n",
              "    <tr>\n",
              "      <th>404</th>\n",
              "      <td>Dodge Rampage</td>\n",
              "      <td>32.0</td>\n",
              "      <td>4</td>\n",
              "      <td>135.0</td>\n",
              "      <td>84.00</td>\n",
              "      <td>2295.</td>\n",
              "      <td>11.6</td>\n",
              "      <td>82</td>\n",
              "      <td>US</td>\n",
              "    </tr>\n",
              "    <tr>\n",
              "      <th>405</th>\n",
              "      <td>Ford Ranger</td>\n",
              "      <td>28.0</td>\n",
              "      <td>4</td>\n",
              "      <td>120.0</td>\n",
              "      <td>79.00</td>\n",
              "      <td>2625.</td>\n",
              "      <td>18.6</td>\n",
              "      <td>82</td>\n",
              "      <td>US</td>\n",
              "    </tr>\n",
              "    <tr>\n",
              "      <th>406</th>\n",
              "      <td>Chevy S-10</td>\n",
              "      <td>31.0</td>\n",
              "      <td>4</td>\n",
              "      <td>119.0</td>\n",
              "      <td>82.00</td>\n",
              "      <td>2720.</td>\n",
              "      <td>19.4</td>\n",
              "      <td>82</td>\n",
              "      <td>US</td>\n",
              "    </tr>\n",
              "  </tbody>\n",
              "</table>\n",
              "<p>401 rows × 9 columns</p>\n",
              "</div>"
            ],
            "text/plain": [
              "                    Car   MPG Cylinders  ... Acceleration Model  Origin\n",
              "5           Ford Torino  17.0         8  ...         10.5    70      US\n",
              "7      Chevrolet Impala  14.0         8  ...          9.0    70      US\n",
              "8     Plymouth Fury iii  14.0         8  ...          8.5    70      US\n",
              "9      Pontiac Catalina  14.0         8  ...         10.0    70      US\n",
              "10   AMC Ambassador DPL  15.0         8  ...          8.5    70      US\n",
              "..                  ...   ...       ...  ...          ...   ...     ...\n",
              "402     Ford Mustang GL  27.0         4  ...         15.6    82      US\n",
              "403   Volkswagen Pickup  44.0         4  ...         24.6    82  Europe\n",
              "404       Dodge Rampage  32.0         4  ...         11.6    82      US\n",
              "405         Ford Ranger  28.0         4  ...         18.6    82      US\n",
              "406          Chevy S-10  31.0         4  ...         19.4    82      US\n",
              "\n",
              "[401 rows x 9 columns]"
            ]
          },
          "metadata": {
            "tags": []
          },
          "execution_count": 24
        }
      ]
    },
    {
      "cell_type": "markdown",
      "metadata": {
        "id": "0MHFU3zXdqog"
      },
      "source": [
        "To compute the mean we need numeric values. However the values in the dataframe are objects. Therefore, we need to change them to numerics so that we can compute them."
      ]
    },
    {
      "cell_type": "code",
      "metadata": {
        "id": "CmDqc9I4dtMX"
      },
      "source": [
        "#convert the following column to float\n",
        "df_cars_cleaned['MPG'] = df_cars_cleaned['MPG'].astype(float)"
      ],
      "execution_count": null,
      "outputs": []
    },
    {
      "cell_type": "markdown",
      "metadata": {
        "id": "_2b5o9zddz9w"
      },
      "source": [
        "Now let's see what is the mean of the MPG column"
      ]
    },
    {
      "cell_type": "code",
      "metadata": {
        "id": "hx3_6jCxd2H5",
        "outputId": "d3b47257-4ad2-4571-b3d5-4fd1c603bfca",
        "colab": {
          "base_uri": "https://localhost:8080/"
        }
      },
      "source": [
        "np.mean (df_cars_cleaned['MPG'])"
      ],
      "execution_count": null,
      "outputs": [
        {
          "output_type": "execute_result",
          "data": {
            "text/plain": [
              "23.13416458852868"
            ]
          },
          "metadata": {
            "tags": []
          },
          "execution_count": 26
        }
      ]
    },
    {
      "cell_type": "markdown",
      "metadata": {
        "id": "FP_Xc_Dcd5VZ"
      },
      "source": [
        "We can use this mean to compute the missing values since the graph demonstarted a normal distribution"
      ]
    },
    {
      "cell_type": "code",
      "metadata": {
        "id": "5vmaMricd3xw"
      },
      "source": [
        "df_cars['MPG'].fillna((df_cars_cleaned['MPG'].mean()), inplace=True) #inplace doesnt require me to aassign result to a new df"
      ],
      "execution_count": null,
      "outputs": []
    },
    {
      "cell_type": "code",
      "metadata": {
        "id": "EdSfknd_d42J",
        "outputId": "be50cd90-c899-407d-cf2f-bc45414356b0",
        "colab": {
          "base_uri": "https://localhost:8080/",
          "height": 202
        }
      },
      "source": [
        "df_cars.head()"
      ],
      "execution_count": null,
      "outputs": [
        {
          "output_type": "execute_result",
          "data": {
            "text/html": [
              "<div>\n",
              "<style scoped>\n",
              "    .dataframe tbody tr th:only-of-type {\n",
              "        vertical-align: middle;\n",
              "    }\n",
              "\n",
              "    .dataframe tbody tr th {\n",
              "        vertical-align: top;\n",
              "    }\n",
              "\n",
              "    .dataframe thead th {\n",
              "        text-align: right;\n",
              "    }\n",
              "</style>\n",
              "<table border=\"1\" class=\"dataframe\">\n",
              "  <thead>\n",
              "    <tr style=\"text-align: right;\">\n",
              "      <th></th>\n",
              "      <th>Car</th>\n",
              "      <th>MPG</th>\n",
              "      <th>Cylinders</th>\n",
              "      <th>Displacement</th>\n",
              "      <th>Horsepower</th>\n",
              "      <th>Weight</th>\n",
              "      <th>Acceleration</th>\n",
              "      <th>Model</th>\n",
              "      <th>Origin</th>\n",
              "    </tr>\n",
              "  </thead>\n",
              "  <tbody>\n",
              "    <tr>\n",
              "      <th>1</th>\n",
              "      <td>Chevrolet Chevelle Malibu</td>\n",
              "      <td>23.1342</td>\n",
              "      <td>8</td>\n",
              "      <td>307.0</td>\n",
              "      <td>130.0</td>\n",
              "      <td>3504.</td>\n",
              "      <td>12.0</td>\n",
              "      <td>70</td>\n",
              "      <td>US</td>\n",
              "    </tr>\n",
              "    <tr>\n",
              "      <th>2</th>\n",
              "      <td>Buick Skylark 320</td>\n",
              "      <td>15.0</td>\n",
              "      <td>8</td>\n",
              "      <td>350.0</td>\n",
              "      <td>NaN</td>\n",
              "      <td>3693.</td>\n",
              "      <td>11.5</td>\n",
              "      <td>70</td>\n",
              "      <td>US</td>\n",
              "    </tr>\n",
              "    <tr>\n",
              "      <th>3</th>\n",
              "      <td>Plymouth Satellite</td>\n",
              "      <td>23.1342</td>\n",
              "      <td>8</td>\n",
              "      <td>318.0</td>\n",
              "      <td>150.0</td>\n",
              "      <td>3436.</td>\n",
              "      <td>11.0</td>\n",
              "      <td>70</td>\n",
              "      <td>US</td>\n",
              "    </tr>\n",
              "    <tr>\n",
              "      <th>4</th>\n",
              "      <td>AMC Rebel SST</td>\n",
              "      <td>16.0</td>\n",
              "      <td>8</td>\n",
              "      <td>NaN</td>\n",
              "      <td>150.0</td>\n",
              "      <td>NaN</td>\n",
              "      <td>12.0</td>\n",
              "      <td>70</td>\n",
              "      <td>US</td>\n",
              "    </tr>\n",
              "    <tr>\n",
              "      <th>5</th>\n",
              "      <td>Ford Torino</td>\n",
              "      <td>17.0</td>\n",
              "      <td>8</td>\n",
              "      <td>302.0</td>\n",
              "      <td>140.0</td>\n",
              "      <td>3449.</td>\n",
              "      <td>10.5</td>\n",
              "      <td>70</td>\n",
              "      <td>US</td>\n",
              "    </tr>\n",
              "  </tbody>\n",
              "</table>\n",
              "</div>"
            ],
            "text/plain": [
              "                         Car      MPG Cylinders  ... Acceleration Model Origin\n",
              "1  Chevrolet Chevelle Malibu  23.1342         8  ...         12.0    70     US\n",
              "2          Buick Skylark 320     15.0         8  ...         11.5    70     US\n",
              "3         Plymouth Satellite  23.1342         8  ...         11.0    70     US\n",
              "4              AMC Rebel SST     16.0         8  ...         12.0    70     US\n",
              "5                Ford Torino     17.0         8  ...         10.5    70     US\n",
              "\n",
              "[5 rows x 9 columns]"
            ]
          },
          "metadata": {
            "tags": []
          },
          "execution_count": 28
        }
      ]
    },
    {
      "cell_type": "markdown",
      "metadata": {
        "id": "cfBI1FYqeArZ"
      },
      "source": [
        "### **Car Dataset - Simple Imputer**"
      ]
    },
    {
      "cell_type": "markdown",
      "metadata": {
        "id": "HJmuUs9oeD3g"
      },
      "source": [
        "*SimpleImputer* is a `scikit-learn` class which is helpful in handling the missing data in the predictive model dataset. It replaces the `NaN` values with a specified placeholder.\n",
        "It is implemented by the use of the `SimpleImputer()` method which takes the following arguments :\n",
        "\n",
        "`missing_values` : The missing_values placeholder which has to be imputed. By default is NaN\n",
        "\n",
        "`strategy` : The data which will replace the NaN values from the dataset. The strategy argument can take the values – ‘mean'(default), ‘median’, ‘most_frequent’ and ‘constant’.\n"
      ]
    },
    {
      "cell_type": "markdown",
      "metadata": {
        "id": "mEAOvMXxeGZZ"
      },
      "source": [
        "Let's start by importing the `SimpleImputer` into our notebook"
      ]
    },
    {
      "cell_type": "code",
      "metadata": {
        "id": "M9QnZG6EeEhX"
      },
      "source": [
        "from sklearn.impute import SimpleImputer "
      ],
      "execution_count": null,
      "outputs": []
    },
    {
      "cell_type": "code",
      "metadata": {
        "id": "25e0slOeeKAo"
      },
      "source": [
        "imputer = SimpleImputer(missing_values = np.nan,  \n",
        "                        strategy ='median') "
      ],
      "execution_count": null,
      "outputs": []
    },
    {
      "cell_type": "markdown",
      "metadata": {
        "id": "siIvOr3KeLxx"
      },
      "source": [
        "What we need to do are two essential steps:\n",
        "\n",
        "1. fit the data (compute the mean / median / most freq)\n",
        "2. transform the data (place the computed values in the NaN cells)"
      ]
    },
    {
      "cell_type": "code",
      "metadata": {
        "id": "u9iYm5p_eNCI"
      },
      "source": [
        "imputer = imputer.fit(df_cars.iloc[:,1:8]) "
      ],
      "execution_count": null,
      "outputs": []
    },
    {
      "cell_type": "code",
      "metadata": {
        "id": "uyLXQHZdeQLh"
      },
      "source": [
        "df_cars.iloc[:,1:8] = imputer.transform(df_cars.iloc[:,1:8])"
      ],
      "execution_count": null,
      "outputs": []
    },
    {
      "cell_type": "code",
      "metadata": {
        "id": "XdwWRRyfeQ7Y",
        "outputId": "c409837d-4a75-4b81-fc7a-205eff7cd752",
        "colab": {
          "base_uri": "https://localhost:8080/",
          "height": 202
        }
      },
      "source": [
        "df_cars.head()"
      ],
      "execution_count": null,
      "outputs": [
        {
          "output_type": "execute_result",
          "data": {
            "text/html": [
              "<div>\n",
              "<style scoped>\n",
              "    .dataframe tbody tr th:only-of-type {\n",
              "        vertical-align: middle;\n",
              "    }\n",
              "\n",
              "    .dataframe tbody tr th {\n",
              "        vertical-align: top;\n",
              "    }\n",
              "\n",
              "    .dataframe thead th {\n",
              "        text-align: right;\n",
              "    }\n",
              "</style>\n",
              "<table border=\"1\" class=\"dataframe\">\n",
              "  <thead>\n",
              "    <tr style=\"text-align: right;\">\n",
              "      <th></th>\n",
              "      <th>Car</th>\n",
              "      <th>MPG</th>\n",
              "      <th>Cylinders</th>\n",
              "      <th>Displacement</th>\n",
              "      <th>Horsepower</th>\n",
              "      <th>Weight</th>\n",
              "      <th>Acceleration</th>\n",
              "      <th>Model</th>\n",
              "      <th>Origin</th>\n",
              "    </tr>\n",
              "  </thead>\n",
              "  <tbody>\n",
              "    <tr>\n",
              "      <th>1</th>\n",
              "      <td>Chevrolet Chevelle Malibu</td>\n",
              "      <td>23.1342</td>\n",
              "      <td>8</td>\n",
              "      <td>307</td>\n",
              "      <td>130</td>\n",
              "      <td>3504</td>\n",
              "      <td>12</td>\n",
              "      <td>70</td>\n",
              "      <td>US</td>\n",
              "    </tr>\n",
              "    <tr>\n",
              "      <th>2</th>\n",
              "      <td>Buick Skylark 320</td>\n",
              "      <td>15</td>\n",
              "      <td>8</td>\n",
              "      <td>350</td>\n",
              "      <td>92.5</td>\n",
              "      <td>3693</td>\n",
              "      <td>11.5</td>\n",
              "      <td>70</td>\n",
              "      <td>US</td>\n",
              "    </tr>\n",
              "    <tr>\n",
              "      <th>3</th>\n",
              "      <td>Plymouth Satellite</td>\n",
              "      <td>23.1342</td>\n",
              "      <td>8</td>\n",
              "      <td>318</td>\n",
              "      <td>150</td>\n",
              "      <td>3436</td>\n",
              "      <td>11</td>\n",
              "      <td>70</td>\n",
              "      <td>US</td>\n",
              "    </tr>\n",
              "    <tr>\n",
              "      <th>4</th>\n",
              "      <td>AMC Rebel SST</td>\n",
              "      <td>16</td>\n",
              "      <td>8</td>\n",
              "      <td>151</td>\n",
              "      <td>150</td>\n",
              "      <td>2815</td>\n",
              "      <td>12</td>\n",
              "      <td>70</td>\n",
              "      <td>US</td>\n",
              "    </tr>\n",
              "    <tr>\n",
              "      <th>5</th>\n",
              "      <td>Ford Torino</td>\n",
              "      <td>17</td>\n",
              "      <td>8</td>\n",
              "      <td>302</td>\n",
              "      <td>140</td>\n",
              "      <td>3449</td>\n",
              "      <td>10.5</td>\n",
              "      <td>70</td>\n",
              "      <td>US</td>\n",
              "    </tr>\n",
              "  </tbody>\n",
              "</table>\n",
              "</div>"
            ],
            "text/plain": [
              "                         Car      MPG Cylinders  ... Acceleration Model Origin\n",
              "1  Chevrolet Chevelle Malibu  23.1342         8  ...           12    70     US\n",
              "2          Buick Skylark 320       15         8  ...         11.5    70     US\n",
              "3         Plymouth Satellite  23.1342         8  ...           11    70     US\n",
              "4              AMC Rebel SST       16         8  ...           12    70     US\n",
              "5                Ford Torino       17         8  ...         10.5    70     US\n",
              "\n",
              "[5 rows x 9 columns]"
            ]
          },
          "metadata": {
            "tags": []
          },
          "execution_count": 33
        }
      ]
    },
    {
      "cell_type": "markdown",
      "metadata": {
        "id": "aCTldAPHeWRq"
      },
      "source": [
        "### **Data Cleaning Exercise - SF Building permit**\n",
        "\n",
        "\n",
        "The [Building permits dataset](https://www.kaggle.com/aparnashastry/building-permit-applications-data#Building_Permits.csv) pertains to all types of structural permits from Jan 1, 2013 - Feb 25th 2018 in San Francisco. Data includes details on application/permit numbers, job addresses, supervisorial districts, and the current status of the applications. \n",
        "\n",
        "Download the dataset from the link provided and store it in your own data or working folder. Import the dataset in the next cell, and work your way through the steps in the subsequent cells."
      ]
    },
    {
      "cell_type": "markdown",
      "metadata": {
        "id": "ZGMSW3d4eXfy"
      },
      "source": [
        "1. Import the dataset and observe the first few rows"
      ]
    },
    {
      "cell_type": "code",
      "metadata": {
        "id": "7LObg_MDeXlC"
      },
      "source": [
        ""
      ],
      "execution_count": null,
      "outputs": []
    },
    {
      "cell_type": "markdown",
      "metadata": {
        "id": "lY99RxxseXpq"
      },
      "source": [
        "2. Find out what percent of the building permits dataset is missing."
      ]
    },
    {
      "cell_type": "code",
      "metadata": {
        "id": "qmlPHGyLeXuq"
      },
      "source": [
        ""
      ],
      "execution_count": null,
      "outputs": []
    },
    {
      "cell_type": "markdown",
      "metadata": {
        "id": "nIzETJL3eX0K"
      },
      "source": [
        "3. Write a code to check the values of the `Street Number Suffix` and `Zipcode` from the building permits datasets. Both of these contain missing values. Which, if either, of these are missing because they don't exist? Which, if either, are missing because they weren't recorded?"
      ]
    },
    {
      "cell_type": "code",
      "metadata": {
        "id": "CPX3yxWLeX4J"
      },
      "source": [
        ""
      ],
      "execution_count": null,
      "outputs": []
    },
    {
      "cell_type": "markdown",
      "metadata": {
        "id": "bOMsAmvseX-K"
      },
      "source": [
        "4. See if you can drop the missing values from the building permits dataset and still keep some data, or drop the columns with missing values and see if you have columns still."
      ]
    },
    {
      "cell_type": "code",
      "metadata": {
        "id": "MZTwuU35eYCa"
      },
      "source": [
        ""
      ],
      "execution_count": null,
      "outputs": []
    },
    {
      "cell_type": "markdown",
      "metadata": {
        "id": "iqxLdZyCeYHK"
      },
      "source": [
        "5. Try replacing all the `NaN`'s in the building permits data with the one that comes directly after it and then replacing any remaining `NaN`'s with 0. **HINT:** Google `fillna(method = 'bfill')`"
      ]
    },
    {
      "cell_type": "code",
      "metadata": {
        "id": "UHXJTtH7eYLC"
      },
      "source": [
        ""
      ],
      "execution_count": null,
      "outputs": []
    },
    {
      "cell_type": "markdown",
      "metadata": {
        "id": "9XA_AldReYQS"
      },
      "source": [
        "6. Create a new dataset at the end with all missing values handled and store as a CSV file."
      ]
    },
    {
      "cell_type": "code",
      "metadata": {
        "id": "W_5PswHneYTx"
      },
      "source": [
        ""
      ],
      "execution_count": null,
      "outputs": []
    },
    {
      "cell_type": "markdown",
      "metadata": {
        "id": "MNEuW8YPeokS"
      },
      "source": [
        "### **Data Cleaning Exercise 2: Missing value handling on the Pima**\n",
        "\n",
        "[Pima Indians Diabetes Dataset](https://raw.githubusercontent.com/jbrownlee/Datasets/master/pima-indians-diabetes.data.csv) involves predicting the onset of diabetes within 5 years in Pima Indians given medical details.\n",
        "\n",
        "There are 768 observations with 8 input variables and 1 output variable. The variable names are as follows:\n",
        "\n",
        "0. Number of times pregnant.\n",
        "1. Plasma glucose concentration a 2 hours in an oral glucose tolerance test.\n",
        "2. Diastolic blood pressure (mm Hg).\n",
        "3. Triceps skinfold thickness (mm).\n",
        "4. 2-Hour serum insulin (mu U/ml).\n",
        "5. Body mass index (weight in kg/(height in m)^2).\n",
        "6. Diabetes pedigree function.\n",
        "7. Age (years).\n",
        "8. Class variable (0 or 1).\n",
        "\n",
        "This is a medical dataset, so an important thing we will do with this dataset is that we will see if the statistical summaries can reveal something about the missing values."
      ]
    },
    {
      "cell_type": "markdown",
      "metadata": {
        "id": "QNpGTNkjes4J"
      },
      "source": [
        "1. Import the dataset in the next cell, and work your way through the steps in the subsequent cells."
      ]
    },
    {
      "cell_type": "code",
      "metadata": {
        "id": "IewLjJ6Neq8s"
      },
      "source": [
        ""
      ],
      "execution_count": null,
      "outputs": []
    },
    {
      "cell_type": "markdown",
      "metadata": {
        "id": "o3_2eXYpevNh"
      },
      "source": [
        "2. Use the describe method used for pandas data frames to obtain a statistucal summary of the dataset."
      ]
    },
    {
      "cell_type": "code",
      "metadata": {
        "id": "PSqREYnjevVR"
      },
      "source": [
        ""
      ],
      "execution_count": null,
      "outputs": []
    },
    {
      "cell_type": "markdown",
      "metadata": {
        "id": "RwaFjGKQevb6"
      },
      "source": [
        "3. There are columns that have a minimum value of zero (0). On some columns, a value of zero does not make sense and indicates an invalid or missing value. For example, the `BMI` for a person cannot be 0. See if there are other columns/attributes whose value of 0 does not make sense. An understanding of the medical columns may be needed."
      ]
    },
    {
      "cell_type": "code",
      "metadata": {
        "id": "BSXvXmU9evhb"
      },
      "source": [
        ""
      ],
      "execution_count": null,
      "outputs": []
    },
    {
      "cell_type": "markdown",
      "metadata": {
        "id": "TkxCdyk1evoS"
      },
      "source": [
        "4. Now you can proceed to check the missing values and remove/impute as in exercise 1. Create a new dataset at the ending with all missing values handled and store as a CSV file."
      ]
    },
    {
      "cell_type": "code",
      "metadata": {
        "id": "O6lrLYPFevtC"
      },
      "source": [
        ""
      ],
      "execution_count": null,
      "outputs": []
    },
    {
      "cell_type": "markdown",
      "metadata": {
        "id": "XOb9Shf3ev1i"
      },
      "source": [
        "##**References**"
      ]
    },
    {
      "cell_type": "markdown",
      "metadata": {
        "id": "g7YWugiQe8qL"
      },
      "source": [
        "**Pictures**\n",
        "\n",
        "\n",
        "1. https://devbunch.com/blog/6-data-cleaning-steps-to-boost-busin/\n",
        "\n",
        "\n",
        "**Notebook Resources**\n",
        "1. [Hadley Wickham - Tidy Data](http://vita.had.co.nz/papers/tidy-data.pdf)\n",
        "2. [Data Cleaning](https://www.kaggle.com/rtatman/data-cleaning-challenge-handling-missing-values)\n",
        "3. [DSangeetha- Nobel Prize Visualization](https://www.kaggle.com/devisangeetha/nobel-prizes-from-1901)\n",
        "4. [Simple Imputer](https://www.youtube.com/watch?v=GFnwvZVCMro)\n",
        "5. [Geeks for Geeks - Simple Imputer](https://www.geeksforgeeks.org/ml-handle-missing-data-with-simple-imputer/)\n",
        "\n"
      ]
    },
    {
      "cell_type": "code",
      "metadata": {
        "id": "weZC7dS8e9EI"
      },
      "source": [
        ""
      ],
      "execution_count": null,
      "outputs": []
    }
  ]
}